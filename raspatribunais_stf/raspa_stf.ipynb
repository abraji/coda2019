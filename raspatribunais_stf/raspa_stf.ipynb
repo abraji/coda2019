{
 "cells": [
  {
   "cell_type": "code",
   "execution_count": 1,
   "metadata": {},
   "outputs": [],
   "source": [
    "# -*- coding: utf-8\n",
    "# Abraji (https://www.abraji.org.br)\n",
    "# Reinaldo Chaves (reinaldo@abraji.org.br)\n",
    "# Programa para buscas de processos no STF a partir de nomes\n",
    "#"
   ]
  },
  {
   "cell_type": "code",
   "execution_count": null,
   "metadata": {},
   "outputs": [],
   "source": []
  },
  {
   "cell_type": "code",
   "execution_count": 4,
   "metadata": {},
   "outputs": [],
   "source": [
    "from bs4 import BeautifulSoup as bs\n",
    "import requests\n",
    "import pandas as pd\n",
    "import math\n",
    "import os"
   ]
  },
  {
   "cell_type": "code",
   "execution_count": null,
   "metadata": {},
   "outputs": [],
   "source": []
  },
  {
   "cell_type": "code",
   "execution_count": 5,
   "metadata": {},
   "outputs": [
    {
     "name": "stdout",
     "output_type": "stream",
     "text": [
      "/home/reinaldo/Documentos/Code/abraji/coda2019/repo/raspatribunais_stf\n"
     ]
    }
   ],
   "source": [
    "print(os.getcwd())"
   ]
  },
  {
   "cell_type": "code",
   "execution_count": null,
   "metadata": {},
   "outputs": [],
   "source": []
  },
  {
   "cell_type": "code",
   "execution_count": 6,
   "metadata": {},
   "outputs": [],
   "source": [
    "# Amostra de candidatos"
   ]
  },
  {
   "cell_type": "code",
   "execution_count": 7,
   "metadata": {},
   "outputs": [],
   "source": [
    "candidatos = pd.read_csv('exemplo_candidatos_presidente.csv', encoding='utf-8', converters={'CPF_CANDIDATO': lambda x: str(x)})"
   ]
  },
  {
   "cell_type": "code",
   "execution_count": 8,
   "metadata": {},
   "outputs": [
    {
     "name": "stdout",
     "output_type": "stream",
     "text": [
      "<class 'pandas.core.frame.DataFrame'>\n",
      "RangeIndex: 4 entries, 0 to 3\n",
      "Data columns (total 20 columns):\n",
      "ANO_ELEICAO                    4 non-null int64\n",
      "SIGLA_UF                       4 non-null object\n",
      "SIGLA_UE                       4 non-null object\n",
      "DESCRICAO_UE                   4 non-null object\n",
      "CODIGO_CARGO                   4 non-null int64\n",
      "DESCRICAO_CARGO                4 non-null object\n",
      "DESCRICAO_SEXO                 4 non-null object\n",
      "NOME_CANDIDATO                 4 non-null object\n",
      "NOME_URNA_CANDIDATO            4 non-null object\n",
      "SIGLA_PARTIDO                  4 non-null object\n",
      "SEQUENCIAL_CANDIDATO           4 non-null int64\n",
      "NUMERO_CANDIDATO               4 non-null int64\n",
      "CPF_CANDIDATO                  4 non-null object\n",
      "CODIGO_MUNICIPIO_NASCIMENTO    4 non-null int64\n",
      "NOME_MUNICIPIO_NASCIMENTO      4 non-null object\n",
      "DATA_NASCIMENTO                4 non-null object\n",
      "SIGLA_UF_NASCIMENTO            4 non-null object\n",
      "COD_SIT_TOT_TURNO              4 non-null int64\n",
      "DESC_SIT_TOT_TURNO             4 non-null object\n",
      "nome                           4 non-null object\n",
      "dtypes: int64(6), object(14)\n",
      "memory usage: 768.0+ bytes\n"
     ]
    }
   ],
   "source": [
    "candidatos.info()"
   ]
  },
  {
   "cell_type": "code",
   "execution_count": 9,
   "metadata": {},
   "outputs": [
    {
     "data": {
      "text/html": [
       "<div>\n",
       "<style scoped>\n",
       "    .dataframe tbody tr th:only-of-type {\n",
       "        vertical-align: middle;\n",
       "    }\n",
       "\n",
       "    .dataframe tbody tr th {\n",
       "        vertical-align: top;\n",
       "    }\n",
       "\n",
       "    .dataframe thead th {\n",
       "        text-align: right;\n",
       "    }\n",
       "</style>\n",
       "<table border=\"1\" class=\"dataframe\">\n",
       "  <thead>\n",
       "    <tr style=\"text-align: right;\">\n",
       "      <th></th>\n",
       "      <th>ANO_ELEICAO</th>\n",
       "      <th>SIGLA_UF</th>\n",
       "      <th>SIGLA_UE</th>\n",
       "      <th>DESCRICAO_UE</th>\n",
       "      <th>CODIGO_CARGO</th>\n",
       "      <th>DESCRICAO_CARGO</th>\n",
       "      <th>DESCRICAO_SEXO</th>\n",
       "      <th>NOME_CANDIDATO</th>\n",
       "      <th>NOME_URNA_CANDIDATO</th>\n",
       "      <th>SIGLA_PARTIDO</th>\n",
       "      <th>SEQUENCIAL_CANDIDATO</th>\n",
       "      <th>NUMERO_CANDIDATO</th>\n",
       "      <th>CPF_CANDIDATO</th>\n",
       "      <th>CODIGO_MUNICIPIO_NASCIMENTO</th>\n",
       "      <th>NOME_MUNICIPIO_NASCIMENTO</th>\n",
       "      <th>DATA_NASCIMENTO</th>\n",
       "      <th>SIGLA_UF_NASCIMENTO</th>\n",
       "      <th>COD_SIT_TOT_TURNO</th>\n",
       "      <th>DESC_SIT_TOT_TURNO</th>\n",
       "      <th>nome</th>\n",
       "    </tr>\n",
       "  </thead>\n",
       "  <tbody>\n",
       "    <tr>\n",
       "      <th>0</th>\n",
       "      <td>2018</td>\n",
       "      <td>BR</td>\n",
       "      <td>BR</td>\n",
       "      <td>BRASIL</td>\n",
       "      <td>1</td>\n",
       "      <td>PRESIDENTE</td>\n",
       "      <td>MASCULINO</td>\n",
       "      <td>JOSE MARIA EYMAEL</td>\n",
       "      <td>EYMAEL</td>\n",
       "      <td>DC</td>\n",
       "      <td>280000624085</td>\n",
       "      <td>27</td>\n",
       "      <td>01061712834</td>\n",
       "      <td>-3</td>\n",
       "      <td>PORTO ALEGRE</td>\n",
       "      <td>02/11/1939</td>\n",
       "      <td>RS</td>\n",
       "      <td>4</td>\n",
       "      <td>NÃO ELEITO</td>\n",
       "      <td>JOSE MARIA EYMAEL</td>\n",
       "    </tr>\n",
       "    <tr>\n",
       "      <th>1</th>\n",
       "      <td>2014</td>\n",
       "      <td>BR</td>\n",
       "      <td>BR</td>\n",
       "      <td>BRASIL</td>\n",
       "      <td>1</td>\n",
       "      <td>PRESIDENTE</td>\n",
       "      <td>MASCULINO</td>\n",
       "      <td>AÉCIO NEVES DA CUNHA</td>\n",
       "      <td>AÉCIO NEVES</td>\n",
       "      <td>PSDB</td>\n",
       "      <td>280000000085</td>\n",
       "      <td>45</td>\n",
       "      <td>66728983791</td>\n",
       "      <td>-3</td>\n",
       "      <td>BELO HORIZONTE</td>\n",
       "      <td>10/03/1960</td>\n",
       "      <td>MG</td>\n",
       "      <td>4</td>\n",
       "      <td>NÃO ELEITO</td>\n",
       "      <td>AECIO NEVES DA CUNHA</td>\n",
       "    </tr>\n",
       "    <tr>\n",
       "      <th>2</th>\n",
       "      <td>2018</td>\n",
       "      <td>BR</td>\n",
       "      <td>BR</td>\n",
       "      <td>BRASIL</td>\n",
       "      <td>1</td>\n",
       "      <td>PRESIDENTE</td>\n",
       "      <td>MASCULINO</td>\n",
       "      <td>LUIZ INÁCIO LULA DA SILVA</td>\n",
       "      <td>LULA</td>\n",
       "      <td>PT</td>\n",
       "      <td>280000625869</td>\n",
       "      <td>13</td>\n",
       "      <td>07068093868</td>\n",
       "      <td>-3</td>\n",
       "      <td>GARANHUNS</td>\n",
       "      <td>06/10/1945</td>\n",
       "      <td>PE</td>\n",
       "      <td>-1</td>\n",
       "      <td>#NULO#</td>\n",
       "      <td>LUIZ INACIO LULA DA SILVA</td>\n",
       "    </tr>\n",
       "    <tr>\n",
       "      <th>3</th>\n",
       "      <td>2018</td>\n",
       "      <td>BR</td>\n",
       "      <td>BR</td>\n",
       "      <td>BRASIL</td>\n",
       "      <td>1</td>\n",
       "      <td>PRESIDENTE</td>\n",
       "      <td>MASCULINO</td>\n",
       "      <td>JAIR MESSIAS BOLSONARO</td>\n",
       "      <td>JAIR BOLSONARO</td>\n",
       "      <td>PSL</td>\n",
       "      <td>280000614517</td>\n",
       "      <td>17</td>\n",
       "      <td>45317828791</td>\n",
       "      <td>-3</td>\n",
       "      <td>CAMPINAS</td>\n",
       "      <td>21/03/1955</td>\n",
       "      <td>SP</td>\n",
       "      <td>1</td>\n",
       "      <td>ELEITO</td>\n",
       "      <td>JAIR MESSIAS BOLSONARO</td>\n",
       "    </tr>\n",
       "  </tbody>\n",
       "</table>\n",
       "</div>"
      ],
      "text/plain": [
       "   ANO_ELEICAO SIGLA_UF SIGLA_UE DESCRICAO_UE  CODIGO_CARGO DESCRICAO_CARGO  \\\n",
       "0         2018       BR       BR       BRASIL             1      PRESIDENTE   \n",
       "1         2014       BR       BR       BRASIL             1      PRESIDENTE   \n",
       "2         2018       BR       BR       BRASIL             1      PRESIDENTE   \n",
       "3         2018       BR       BR       BRASIL             1      PRESIDENTE   \n",
       "\n",
       "  DESCRICAO_SEXO             NOME_CANDIDATO NOME_URNA_CANDIDATO SIGLA_PARTIDO  \\\n",
       "0      MASCULINO          JOSE MARIA EYMAEL              EYMAEL            DC   \n",
       "1      MASCULINO       AÉCIO NEVES DA CUNHA         AÉCIO NEVES          PSDB   \n",
       "2      MASCULINO  LUIZ INÁCIO LULA DA SILVA                LULA            PT   \n",
       "3      MASCULINO     JAIR MESSIAS BOLSONARO      JAIR BOLSONARO           PSL   \n",
       "\n",
       "   SEQUENCIAL_CANDIDATO  NUMERO_CANDIDATO CPF_CANDIDATO  \\\n",
       "0          280000624085                27   01061712834   \n",
       "1          280000000085                45   66728983791   \n",
       "2          280000625869                13   07068093868   \n",
       "3          280000614517                17   45317828791   \n",
       "\n",
       "   CODIGO_MUNICIPIO_NASCIMENTO NOME_MUNICIPIO_NASCIMENTO DATA_NASCIMENTO  \\\n",
       "0                           -3              PORTO ALEGRE      02/11/1939   \n",
       "1                           -3            BELO HORIZONTE      10/03/1960   \n",
       "2                           -3                 GARANHUNS      06/10/1945   \n",
       "3                           -3                  CAMPINAS      21/03/1955   \n",
       "\n",
       "  SIGLA_UF_NASCIMENTO  COD_SIT_TOT_TURNO DESC_SIT_TOT_TURNO  \\\n",
       "0                  RS                  4         NÃO ELEITO   \n",
       "1                  MG                  4         NÃO ELEITO   \n",
       "2                  PE                 -1             #NULO#   \n",
       "3                  SP                  1             ELEITO   \n",
       "\n",
       "                        nome  \n",
       "0          JOSE MARIA EYMAEL  \n",
       "1       AECIO NEVES DA CUNHA  \n",
       "2  LUIZ INACIO LULA DA SILVA  \n",
       "3     JAIR MESSIAS BOLSONARO  "
      ]
     },
     "execution_count": 9,
     "metadata": {},
     "output_type": "execute_result"
    }
   ],
   "source": [
    "candidatos.head()"
   ]
  },
  {
   "cell_type": "code",
   "execution_count": null,
   "metadata": {},
   "outputs": [],
   "source": []
  },
  {
   "cell_type": "code",
   "execution_count": 8,
   "metadata": {},
   "outputs": [],
   "source": [
    "# Função para pegar a paginação de processos"
   ]
  },
  {
   "cell_type": "code",
   "execution_count": 10,
   "metadata": {},
   "outputs": [],
   "source": [
    "def conta_pagina(politico_conta, nome):\n",
    "    \n",
    "    # Faz os testes para o request da página\n",
    "    try:\n",
    "        r = requests.get(politico_conta)\n",
    "    except (requests.exceptions.HTTPError, requests.exceptions.RequestException, requests.exceptions.ConnectionError, requests.exceptions.Timeout) as e:\n",
    "        print(str(e))\n",
    "        return \n",
    "    except Exception as e:\n",
    "        print(\"Exceção\")\n",
    "        return\n",
    "    \n",
    "    # Captura o número de processos\n",
    "    soup = bs(r.content, 'lxml')\n",
    "    qt = soup.select_one('#totalProc')['value']\n",
    "    qt = int(qt)\n",
    "    \n",
    "    # Testa se existe mais de 1 página de processos\n",
    "    if qt / 20 <= 1:\n",
    "        print(nome + \" tem 1 página\")\n",
    "        return (\"0\", \"1\")\n",
    "    else:\n",
    "        conta = qt / 20\n",
    "        # Função para retornar o menor valor integral \n",
    "        x = math.ceil(conta)\n",
    "        print(nome + \" tem \" + str(x) + \" páginas\")\n",
    "        return (qt, x)"
   ]
  },
  {
   "cell_type": "code",
   "execution_count": null,
   "metadata": {},
   "outputs": [],
   "source": []
  },
  {
   "cell_type": "code",
   "execution_count": 11,
   "metadata": {},
   "outputs": [],
   "source": [
    "# Função para extrair número CNJ e dados gerais"
   ]
  },
  {
   "cell_type": "code",
   "execution_count": 12,
   "metadata": {},
   "outputs": [],
   "source": [
    "def le_lista(politico_link, nome, cpf):\n",
    "    print(nome)\n",
    "    \n",
    "    # Faz os testes para o request da página\n",
    "    try:\n",
    "        res = requests.get(politico_link)\n",
    "    except (requests.exceptions.HTTPError, requests.exceptions.RequestException, requests.exceptions.ConnectionError, requests.exceptions.Timeout) as e:\n",
    "        print(str(e))\n",
    "        return \n",
    "    except Exception as e:\n",
    "        print(\"Exceção\")\n",
    "        return\n",
    "\n",
    "    # Este site é preciso decodificar o resultado\n",
    "    html = res.content.decode('utf-8') \n",
    "    \n",
    "    # Faz o parseamento\n",
    "    soup =  bs(html, \"lxml\")\n",
    "\n",
    "    # Captura a tabela inteira\n",
    "    parts = soup.find_all('table', {'class': 'table m-b-0'})\n",
    "    \n",
    "    #pag = soup.find_all('div', {'id': 'total'})\n",
    "    #print(pag)\n",
    "        \n",
    "    # Itera na tabela toda - no caso há só uma\n",
    "    for part in parts:\n",
    "        # Pega o conteúdo das linhas, que tem cada informação com a tag \"td\", de toda coluna\n",
    "        lines = part.find_all('td')\n",
    "        \n",
    "        \n",
    "        # Divide cada linha em partes - as colunas\n",
    "        # O range estabele uma posição de começo\n",
    "        # Uma posição final, que sempre será um número a menos\n",
    "        # E pode ter um step, ou seja, o incremento - aqui de sete em sete\n",
    "        chunks = [lines[x:x+7] for x in range(0, len(lines), 7)]\n",
    "        \n",
    "        # Acessa cada parte que foi dividida\n",
    "        for vez in chunks:\n",
    "            \n",
    "            # Atribui cada parte a um valor no dicionário\n",
    "            processos.append({'nome_completo': nome, \n",
    "                                'cpf': cpf, \n",
    "                                'identificacao': vez[0].string, \n",
    "                                'identificacao_link': \"http://portal.stf.jus.br/processos/\" + vez[0].a.get('href'), \n",
    "                                'nome_no_tribunal': vez[1].string, \n",
    "                                'numero_unico': vez[2].string, \n",
    "                                'data_atuacao': vez[3].string, \n",
    "                                'meio': vez[4].string,\n",
    "                                'publicidade': vez[5].string,\n",
    "                                'tramite': vez[6].string}\n",
    "                            )    \n",
    " \n",
    "    return processos"
   ]
  },
  {
   "cell_type": "code",
   "execution_count": null,
   "metadata": {},
   "outputs": [],
   "source": []
  },
  {
   "cell_type": "code",
   "execution_count": 13,
   "metadata": {},
   "outputs": [],
   "source": [
    "# Link geral para buscas\n",
    "link_stf = 'http://portal.stf.jus.br/processos/listarPartes.asp?termo='"
   ]
  },
  {
   "cell_type": "code",
   "execution_count": 14,
   "metadata": {},
   "outputs": [],
   "source": [
    "# Link de outra chamada XHR que você pode encontrar na aba Network em Inspecionar (botão direito do mouse ou Ctrl+Shift+I)\n",
    "# XMLHttpRequest (XHR) é uma API disponível para linguagens de script de navegador da Web, como JavaScript. \n",
    "# É usado para enviar solicitações HTTP ou HTTPS para um servidor da Web e carregar os dados de resposta do servidor novamente no script.\n",
    "link_stf_xhr = 'https://portal.stf.jus.br/processos/totalProcessosPartes.asp?termo='"
   ]
  },
  {
   "cell_type": "code",
   "execution_count": null,
   "metadata": {},
   "outputs": [],
   "source": []
  },
  {
   "cell_type": "code",
   "execution_count": 15,
   "metadata": {},
   "outputs": [],
   "source": [
    "# Lista vazia para acumular dados"
   ]
  },
  {
   "cell_type": "code",
   "execution_count": 16,
   "metadata": {},
   "outputs": [],
   "source": [
    "processos = []"
   ]
  },
  {
   "cell_type": "code",
   "execution_count": null,
   "metadata": {},
   "outputs": [],
   "source": []
  },
  {
   "cell_type": "code",
   "execution_count": 17,
   "metadata": {},
   "outputs": [],
   "source": [
    "# Faz iteração com os candidatos"
   ]
  },
  {
   "cell_type": "code",
   "execution_count": 18,
   "metadata": {},
   "outputs": [
    {
     "name": "stdout",
     "output_type": "stream",
     "text": [
      "JOSE MARIA EYMAEL tem 1 página\n",
      "1\n",
      "JOSE MARIA EYMAEL\n",
      "AECIO NEVES DA CUNHA tem 2 páginas\n",
      "2\n",
      "1\n",
      "http://portal.stf.jus.br/processos/listarPartes.asp?termo=AECIO NEVES DA CUNHA&total=35&paginaAtual=1\n",
      "AECIO NEVES DA CUNHA\n",
      "2\n",
      "http://portal.stf.jus.br/processos/listarPartes.asp?termo=AECIO NEVES DA CUNHA&total=35&paginaAtual=2\n",
      "AECIO NEVES DA CUNHA\n",
      "LUIZ INACIO LULA DA SILVA tem 13 páginas\n",
      "13\n",
      "1\n",
      "http://portal.stf.jus.br/processos/listarPartes.asp?termo=LUIZ INACIO LULA DA SILVA&total=255&paginaAtual=1\n",
      "LUIZ INACIO LULA DA SILVA\n",
      "2\n",
      "http://portal.stf.jus.br/processos/listarPartes.asp?termo=LUIZ INACIO LULA DA SILVA&total=255&paginaAtual=2\n",
      "LUIZ INACIO LULA DA SILVA\n",
      "3\n",
      "http://portal.stf.jus.br/processos/listarPartes.asp?termo=LUIZ INACIO LULA DA SILVA&total=255&paginaAtual=3\n",
      "LUIZ INACIO LULA DA SILVA\n",
      "4\n",
      "http://portal.stf.jus.br/processos/listarPartes.asp?termo=LUIZ INACIO LULA DA SILVA&total=255&paginaAtual=4\n",
      "LUIZ INACIO LULA DA SILVA\n",
      "5\n",
      "http://portal.stf.jus.br/processos/listarPartes.asp?termo=LUIZ INACIO LULA DA SILVA&total=255&paginaAtual=5\n",
      "LUIZ INACIO LULA DA SILVA\n",
      "6\n",
      "http://portal.stf.jus.br/processos/listarPartes.asp?termo=LUIZ INACIO LULA DA SILVA&total=255&paginaAtual=6\n",
      "LUIZ INACIO LULA DA SILVA\n",
      "7\n",
      "http://portal.stf.jus.br/processos/listarPartes.asp?termo=LUIZ INACIO LULA DA SILVA&total=255&paginaAtual=7\n",
      "LUIZ INACIO LULA DA SILVA\n",
      "8\n",
      "http://portal.stf.jus.br/processos/listarPartes.asp?termo=LUIZ INACIO LULA DA SILVA&total=255&paginaAtual=8\n",
      "LUIZ INACIO LULA DA SILVA\n",
      "9\n",
      "http://portal.stf.jus.br/processos/listarPartes.asp?termo=LUIZ INACIO LULA DA SILVA&total=255&paginaAtual=9\n",
      "LUIZ INACIO LULA DA SILVA\n",
      "10\n",
      "http://portal.stf.jus.br/processos/listarPartes.asp?termo=LUIZ INACIO LULA DA SILVA&total=255&paginaAtual=10\n",
      "LUIZ INACIO LULA DA SILVA\n",
      "11\n",
      "http://portal.stf.jus.br/processos/listarPartes.asp?termo=LUIZ INACIO LULA DA SILVA&total=255&paginaAtual=11\n",
      "LUIZ INACIO LULA DA SILVA\n",
      "12\n",
      "http://portal.stf.jus.br/processos/listarPartes.asp?termo=LUIZ INACIO LULA DA SILVA&total=255&paginaAtual=12\n",
      "LUIZ INACIO LULA DA SILVA\n",
      "13\n",
      "http://portal.stf.jus.br/processos/listarPartes.asp?termo=LUIZ INACIO LULA DA SILVA&total=255&paginaAtual=13\n",
      "LUIZ INACIO LULA DA SILVA\n",
      "JAIR MESSIAS BOLSONARO tem 2 páginas\n",
      "2\n",
      "1\n",
      "http://portal.stf.jus.br/processos/listarPartes.asp?termo=JAIR MESSIAS BOLSONARO&total=38&paginaAtual=1\n",
      "JAIR MESSIAS BOLSONARO\n",
      "2\n",
      "http://portal.stf.jus.br/processos/listarPartes.asp?termo=JAIR MESSIAS BOLSONARO&total=38&paginaAtual=2\n",
      "JAIR MESSIAS BOLSONARO\n"
     ]
    }
   ],
   "source": [
    "for num, row in candidatos.iterrows():\n",
    "    nome = row['nome']\n",
    "    \n",
    "    cpf = row['CPF_CANDIDATO']\n",
    "    politico_link = link_stf + nome + '&total=0'\n",
    "    politico_conta = link_stf_xhr + nome + '&total=0'\n",
    "    \n",
    "    # Chama função para pegar o número de páginas de cada político\n",
    "    total_proc, num_pagina = conta_pagina(politico_conta, nome)\n",
    "    \n",
    "    # Mostra a quantidade\n",
    "    print(num_pagina)\n",
    "    \n",
    "    # Se a pessoa tem apenas uma página\n",
    "    if num_pagina == '1':\n",
    "        le_lista(politico_link, nome, cpf)\n",
    "    \n",
    "    # Se possui mais de uma faz uma iteração\n",
    "    else:\n",
    "        for item in range(1, num_pagina+1):\n",
    "            print(item)\n",
    "            vez = str(item)\n",
    "            total_proc = str(total_proc)\n",
    "            # Altera o final da cada URL\n",
    "            politico_link = link_stf + nome + \"&total=\" + total_proc + \"&paginaAtual=\" + vez\n",
    "            print(politico_link)\n",
    "            le_lista(politico_link, nome, cpf)"
   ]
  },
  {
   "cell_type": "code",
   "execution_count": null,
   "metadata": {},
   "outputs": [],
   "source": []
  },
  {
   "cell_type": "code",
   "execution_count": 19,
   "metadata": {},
   "outputs": [],
   "source": [
    "df_processos = pd.DataFrame(processos)"
   ]
  },
  {
   "cell_type": "code",
   "execution_count": 20,
   "metadata": {},
   "outputs": [
    {
     "name": "stdout",
     "output_type": "stream",
     "text": [
      "<class 'pandas.core.frame.DataFrame'>\n",
      "RangeIndex: 335 entries, 0 to 334\n",
      "Data columns (total 10 columns):\n",
      "nome_completo         335 non-null object\n",
      "cpf                   335 non-null object\n",
      "identificacao         335 non-null object\n",
      "identificacao_link    335 non-null object\n",
      "nome_no_tribunal      335 non-null object\n",
      "numero_unico          335 non-null object\n",
      "data_atuacao          335 non-null object\n",
      "meio                  335 non-null object\n",
      "publicidade           335 non-null object\n",
      "tramite               335 non-null object\n",
      "dtypes: object(10)\n",
      "memory usage: 26.3+ KB\n"
     ]
    }
   ],
   "source": [
    "df_processos.info()"
   ]
  },
  {
   "cell_type": "code",
   "execution_count": 21,
   "metadata": {},
   "outputs": [
    {
     "data": {
      "text/html": [
       "<div>\n",
       "<style scoped>\n",
       "    .dataframe tbody tr th:only-of-type {\n",
       "        vertical-align: middle;\n",
       "    }\n",
       "\n",
       "    .dataframe tbody tr th {\n",
       "        vertical-align: top;\n",
       "    }\n",
       "\n",
       "    .dataframe thead th {\n",
       "        text-align: right;\n",
       "    }\n",
       "</style>\n",
       "<table border=\"1\" class=\"dataframe\">\n",
       "  <thead>\n",
       "    <tr style=\"text-align: right;\">\n",
       "      <th></th>\n",
       "      <th>index</th>\n",
       "      <th>nome_completo</th>\n",
       "      <th>cpf</th>\n",
       "      <th>identificacao</th>\n",
       "      <th>identificacao_link</th>\n",
       "      <th>nome_no_tribunal</th>\n",
       "      <th>numero_unico</th>\n",
       "      <th>data_atuacao</th>\n",
       "      <th>meio</th>\n",
       "      <th>publicidade</th>\n",
       "      <th>tramite</th>\n",
       "    </tr>\n",
       "  </thead>\n",
       "  <tbody>\n",
       "    <tr>\n",
       "      <th>0</th>\n",
       "      <td>0</td>\n",
       "      <td>JOSE MARIA EYMAEL</td>\n",
       "      <td>01061712834</td>\n",
       "      <td>ARE 914578</td>\n",
       "      <td>http://portal.stf.jus.br/processos/detalhe.asp...</td>\n",
       "      <td>JOSÉ MARIA EYMAEL</td>\n",
       "      <td>Sem número único</td>\n",
       "      <td>10/09/2015</td>\n",
       "      <td>Físico</td>\n",
       "      <td>Público</td>\n",
       "      <td>Não</td>\n",
       "    </tr>\n",
       "    <tr>\n",
       "      <th>1</th>\n",
       "      <td>1</td>\n",
       "      <td>JOSE MARIA EYMAEL</td>\n",
       "      <td>01061712834</td>\n",
       "      <td>AI 730702</td>\n",
       "      <td>http://portal.stf.jus.br/processos/detalhe.asp...</td>\n",
       "      <td>JOSÉ MARIA EYMAEL</td>\n",
       "      <td>Sem número único</td>\n",
       "      <td>30/10/2008</td>\n",
       "      <td>Físico</td>\n",
       "      <td>Público</td>\n",
       "      <td>Não</td>\n",
       "    </tr>\n",
       "    <tr>\n",
       "      <th>2</th>\n",
       "      <td>2</td>\n",
       "      <td>JOSE MARIA EYMAEL</td>\n",
       "      <td>01061712834</td>\n",
       "      <td>MS 21736</td>\n",
       "      <td>http://portal.stf.jus.br/processos/detalhe.asp...</td>\n",
       "      <td>JOSE MARIA EYMAEL</td>\n",
       "      <td>0001529-69.1993.0.01.0000</td>\n",
       "      <td>25/08/1993</td>\n",
       "      <td>Físico</td>\n",
       "      <td>Público</td>\n",
       "      <td>Não</td>\n",
       "    </tr>\n",
       "    <tr>\n",
       "      <th>3</th>\n",
       "      <td>3</td>\n",
       "      <td>JOSE MARIA EYMAEL</td>\n",
       "      <td>01061712834</td>\n",
       "      <td>MS 21648</td>\n",
       "      <td>http://portal.stf.jus.br/processos/detalhe.asp...</td>\n",
       "      <td>JOSE MARIA EYMAEL</td>\n",
       "      <td>0000193-30.1993.0.01.0000</td>\n",
       "      <td>09/02/1993</td>\n",
       "      <td>Físico</td>\n",
       "      <td>Público</td>\n",
       "      <td>Não</td>\n",
       "    </tr>\n",
       "    <tr>\n",
       "      <th>4</th>\n",
       "      <td>4</td>\n",
       "      <td>JOSE MARIA EYMAEL</td>\n",
       "      <td>01061712834</td>\n",
       "      <td>RE 119465</td>\n",
       "      <td>http://portal.stf.jus.br/processos/detalhe.asp...</td>\n",
       "      <td>JOSE MARIA EYMAEL</td>\n",
       "      <td>Sem número único</td>\n",
       "      <td>22/03/1989</td>\n",
       "      <td>Físico</td>\n",
       "      <td>Público</td>\n",
       "      <td>Não</td>\n",
       "    </tr>\n",
       "  </tbody>\n",
       "</table>\n",
       "</div>"
      ],
      "text/plain": [
       "   index      nome_completo          cpf identificacao  \\\n",
       "0      0  JOSE MARIA EYMAEL  01061712834    ARE 914578   \n",
       "1      1  JOSE MARIA EYMAEL  01061712834     AI 730702   \n",
       "2      2  JOSE MARIA EYMAEL  01061712834      MS 21736   \n",
       "3      3  JOSE MARIA EYMAEL  01061712834      MS 21648   \n",
       "4      4  JOSE MARIA EYMAEL  01061712834     RE 119465   \n",
       "\n",
       "                                  identificacao_link    nome_no_tribunal  \\\n",
       "0  http://portal.stf.jus.br/processos/detalhe.asp...   JOSÉ MARIA EYMAEL   \n",
       "1  http://portal.stf.jus.br/processos/detalhe.asp...   JOSÉ MARIA EYMAEL   \n",
       "2  http://portal.stf.jus.br/processos/detalhe.asp...   JOSE MARIA EYMAEL   \n",
       "3  http://portal.stf.jus.br/processos/detalhe.asp...   JOSE MARIA EYMAEL   \n",
       "4  http://portal.stf.jus.br/processos/detalhe.asp...   JOSE MARIA EYMAEL   \n",
       "\n",
       "                numero_unico data_atuacao    meio publicidade tramite  \n",
       "0           Sem número único   10/09/2015  Físico     Público     Não  \n",
       "1           Sem número único   30/10/2008  Físico     Público     Não  \n",
       "2  0001529-69.1993.0.01.0000   25/08/1993  Físico     Público     Não  \n",
       "3  0000193-30.1993.0.01.0000   09/02/1993  Físico     Público     Não  \n",
       "4           Sem número único   22/03/1989  Físico     Público     Não  "
      ]
     },
     "execution_count": 21,
     "metadata": {},
     "output_type": "execute_result"
    }
   ],
   "source": [
    "df_processos.reset_index().head()"
   ]
  },
  {
   "cell_type": "code",
   "execution_count": null,
   "metadata": {},
   "outputs": [],
   "source": []
  },
  {
   "cell_type": "code",
   "execution_count": 22,
   "metadata": {},
   "outputs": [],
   "source": [
    "# Mantem o número CNJ mais recente e todos os \"Sem número único\""
   ]
  },
  {
   "cell_type": "code",
   "execution_count": null,
   "metadata": {},
   "outputs": [],
   "source": [
    "# Retira espaços em branco"
   ]
  },
  {
   "cell_type": "code",
   "execution_count": 23,
   "metadata": {},
   "outputs": [],
   "source": [
    "df_processos['numero_unico'] = df_processos['numero_unico'].str.strip()"
   ]
  },
  {
   "cell_type": "code",
   "execution_count": null,
   "metadata": {},
   "outputs": [],
   "source": []
  },
  {
   "cell_type": "code",
   "execution_count": null,
   "metadata": {},
   "outputs": [],
   "source": [
    "# Separa em dois dataframes"
   ]
  },
  {
   "cell_type": "code",
   "execution_count": 24,
   "metadata": {},
   "outputs": [],
   "source": [
    "tmp_df1 = df_processos[df_processos['numero_unico'] == \"Sem número único\"]"
   ]
  },
  {
   "cell_type": "code",
   "execution_count": 25,
   "metadata": {},
   "outputs": [],
   "source": [
    "tmp_df2 = df_processos[df_processos['numero_unico']!='Sem número único']"
   ]
  },
  {
   "cell_type": "code",
   "execution_count": null,
   "metadata": {},
   "outputs": [],
   "source": []
  },
  {
   "cell_type": "code",
   "execution_count": null,
   "metadata": {},
   "outputs": [],
   "source": [
    "# Mantém a última citação de um número único"
   ]
  },
  {
   "cell_type": "code",
   "execution_count": 26,
   "metadata": {},
   "outputs": [],
   "source": [
    "tmp_df2 = tmp_df2.drop_duplicates(['numero_unico'], keep='last')"
   ]
  },
  {
   "cell_type": "code",
   "execution_count": null,
   "metadata": {},
   "outputs": [],
   "source": []
  },
  {
   "cell_type": "code",
   "execution_count": null,
   "metadata": {},
   "outputs": [],
   "source": [
    "# Junta os dois dataframes"
   ]
  },
  {
   "cell_type": "code",
   "execution_count": 27,
   "metadata": {},
   "outputs": [],
   "source": [
    "new_df = pd.concat([tmp_df1, tmp_df2])"
   ]
  },
  {
   "cell_type": "code",
   "execution_count": 28,
   "metadata": {},
   "outputs": [
    {
     "name": "stdout",
     "output_type": "stream",
     "text": [
      "<class 'pandas.core.frame.DataFrame'>\n",
      "Int64Index: 328 entries, 0 to 334\n",
      "Data columns (total 10 columns):\n",
      "nome_completo         328 non-null object\n",
      "cpf                   328 non-null object\n",
      "identificacao         328 non-null object\n",
      "identificacao_link    328 non-null object\n",
      "nome_no_tribunal      328 non-null object\n",
      "numero_unico          328 non-null object\n",
      "data_atuacao          328 non-null object\n",
      "meio                  328 non-null object\n",
      "publicidade           328 non-null object\n",
      "tramite               328 non-null object\n",
      "dtypes: object(10)\n",
      "memory usage: 28.2+ KB\n"
     ]
    }
   ],
   "source": [
    "new_df.info()"
   ]
  },
  {
   "cell_type": "code",
   "execution_count": null,
   "metadata": {},
   "outputs": [],
   "source": []
  },
  {
   "cell_type": "code",
   "execution_count": 29,
   "metadata": {},
   "outputs": [],
   "source": [
    "new_df.to_csv('processos_politicos_stf.csv', index=False)"
   ]
  },
  {
   "cell_type": "code",
   "execution_count": null,
   "metadata": {},
   "outputs": [],
   "source": []
  },
  {
   "cell_type": "code",
   "execution_count": null,
   "metadata": {},
   "outputs": [],
   "source": []
  }
 ],
 "metadata": {
  "kernelspec": {
   "display_name": "Python 3",
   "language": "python",
   "name": "python3"
  },
  "language_info": {
   "codemirror_mode": {
    "name": "ipython",
    "version": 3
   },
   "file_extension": ".py",
   "mimetype": "text/x-python",
   "name": "python",
   "nbconvert_exporter": "python",
   "pygments_lexer": "ipython3",
   "version": "3.6.8"
  }
 },
 "nbformat": 4,
 "nbformat_minor": 4
}
