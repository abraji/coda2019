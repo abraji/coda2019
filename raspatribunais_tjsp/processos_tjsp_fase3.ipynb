{
 "cells": [
  {
   "cell_type": "code",
   "execution_count": 1,
   "metadata": {},
   "outputs": [],
   "source": [
    "# -*- coding: utf-8\n",
    "# Abraji (https://www.abraji.org.br)\n",
    "# Reinaldo Chaves (reinaldo@abraji.org.br)\n",
    "# Programa 3 para pegar movimentações de processos na busca do 1º Grau \n",
    "# Com o arquivo gerado no programa 2 entra em cada página de processo\n",
    "# e capta informações finais do processo, incluindo as movimentações \n",
    "#"
   ]
  },
  {
   "cell_type": "code",
   "execution_count": null,
   "metadata": {},
   "outputs": [],
   "source": []
  },
  {
   "cell_type": "code",
   "execution_count": 2,
   "metadata": {},
   "outputs": [],
   "source": [
    "from selenium import webdriver\n",
    "from selenium.webdriver.common.by import By\n",
    "from selenium.webdriver.support.ui import WebDriverWait\n",
    "from selenium.webdriver.support import expected_conditions as EC\n",
    "from selenium.common.exceptions import TimeoutException, NoSuchElementException\n",
    "import time\n",
    "import pandas as pd\n",
    "from bs4 import BeautifulSoup as bs\n",
    "import requests"
   ]
  },
  {
   "cell_type": "code",
   "execution_count": null,
   "metadata": {},
   "outputs": [],
   "source": []
  },
  {
   "cell_type": "code",
   "execution_count": 3,
   "metadata": {},
   "outputs": [],
   "source": [
    "df_processos = pd.read_excel('resultados/processos_tjsp_22ago_segunda_fase.xlsx', Sheet=\"Sheet1\")"
   ]
  },
  {
   "cell_type": "code",
   "execution_count": 4,
   "metadata": {},
   "outputs": [
    {
     "name": "stdout",
     "output_type": "stream",
     "text": [
      "<class 'pandas.core.frame.DataFrame'>\n",
      "RangeIndex: 5199 entries, 0 to 5198\n",
      "Data columns (total 13 columns):\n",
      "Unnamed: 0           5199 non-null int64\n",
      "num_processo         5199 non-null object\n",
      "link                 5199 non-null object\n",
      "tipo                 5199 non-null object\n",
      "parte_especie        5199 non-null object\n",
      "nome_parte           5199 non-null object\n",
      "data                 5199 non-null datetime64[ns]\n",
      "foro                 5199 non-null object\n",
      "assunto              5195 non-null object\n",
      "mais_detalhes        914 non-null object\n",
      "data_distribuicao    5195 non-null object\n",
      "magistrado           5014 non-null object\n",
      "valor_acao           5113 non-null object\n",
      "dtypes: datetime64[ns](1), int64(1), object(11)\n",
      "memory usage: 528.1+ KB\n"
     ]
    }
   ],
   "source": [
    "df_processos.info()"
   ]
  },
  {
   "cell_type": "code",
   "execution_count": null,
   "metadata": {},
   "outputs": [],
   "source": []
  },
  {
   "cell_type": "code",
   "execution_count": 19,
   "metadata": {},
   "outputs": [],
   "source": [
    "contagem = 0\n",
    "firefoxPath=\"/home/abraji/Documentos/Code/geckodriver\""
   ]
  },
  {
   "cell_type": "code",
   "execution_count": 20,
   "metadata": {},
   "outputs": [
    {
     "name": "stdout",
     "output_type": "stream",
     "text": [
      "https://esaj.tjsp.jus.br/cpopg/show.do?processo.codigo=2S000WJ8M0000&processo.foro=100&paginaConsulta=1&conversationId=&dadosConsulta.localPesquisa.cdLocal=100&cbPesquisa=NMPARTE&dadosConsulta.tipoNuProcesso=UNIFICADO&dadosConsulta.valorConsulta=Estadao&uuidCaptcha=&pbEnviar=Pesquisar\n",
      "https://esaj.tjsp.jus.br/cpopg/show.do?processo.codigo=0G00073X20000&processo.foro=16&paginaConsulta=1&conversationId=&dadosConsulta.localPesquisa.cdLocal=16&cbPesquisa=NMPARTE&dadosConsulta.tipoNuProcesso=UNIFICADO&dadosConsulta.valorConsulta=Estadao&uuidCaptcha=&pbEnviar=Pesquisar\n",
      "https://esaj.tjsp.jus.br/cpopg/show.do?processo.codigo=HD0005OK00000&processo.foro=625&paginaConsulta=1&conversationId=&dadosConsulta.localPesquisa.cdLocal=625&cbPesquisa=NMPARTE&dadosConsulta.tipoNuProcesso=UNIFICADO&dadosConsulta.valorConsulta=Estadao&uuidCaptcha=&pbEnviar=Pesquisar\n"
     ]
    },
    {
     "name": "stderr",
     "output_type": "stream",
     "text": [
      "/home/abraji/Documentos/Code/ctrl_x/lib/python3.6/site-packages/urllib3/connectionpool.py:851: InsecureRequestWarning: Unverified HTTPS request is being made. Adding certificate verification is strongly advised. See: https://urllib3.readthedocs.io/en/latest/advanced-usage.html#ssl-warnings\n",
      "  InsecureRequestWarning)\n"
     ]
    },
    {
     "name": "stdout",
     "output_type": "stream",
     "text": [
      "https://esaj.tjsp.jus.br/cpopg/show.do?processo.codigo=HD0003UDJ0000&processo.foro=625&paginaConsulta=1&conversationId=&dadosConsulta.localPesquisa.cdLocal=625&cbPesquisa=NMPARTE&dadosConsulta.tipoNuProcesso=UNIFICADO&dadosConsulta.valorConsulta=Estadao&uuidCaptcha=&pbEnviar=Pesquisar\n",
      "https://esaj.tjsp.jus.br/cpopg/show.do?processo.codigo=0K0005HQ80000&processo.foro=20&paginaConsulta=1&conversationId=&dadosConsulta.localPesquisa.cdLocal=20&cbPesquisa=NMPARTE&dadosConsulta.tipoNuProcesso=UNIFICADO&dadosConsulta.valorConsulta=Estadao&uuidCaptcha=&pbEnviar=Pesquisar\n",
      "https://esaj.tjsp.jus.br/cpopg/show.do?processo.codigo=040015H990000&processo.foro=20&paginaConsulta=1&conversationId=&dadosConsulta.localPesquisa.cdLocal=20&cbPesquisa=NMPARTE&dadosConsulta.tipoNuProcesso=UNIFICADO&dadosConsulta.valorConsulta=Estadao&uuidCaptcha=&pbEnviar=Pesquisar\n",
      "https://esaj.tjsp.jus.br/cpopg/show.do?processo.codigo=0K0004JRK0000&processo.foro=20&paginaConsulta=1&conversationId=&dadosConsulta.localPesquisa.cdLocal=20&cbPesquisa=NMPARTE&dadosConsulta.tipoNuProcesso=UNIFICADO&dadosConsulta.valorConsulta=Estadao&uuidCaptcha=&pbEnviar=Pesquisar\n",
      "https://esaj.tjsp.jus.br/cpopg/show.do?processo.codigo=0K0004FP10000&processo.foro=20&paginaConsulta=1&conversationId=&dadosConsulta.localPesquisa.cdLocal=20&cbPesquisa=NMPARTE&dadosConsulta.tipoNuProcesso=UNIFICADO&dadosConsulta.valorConsulta=Estadao&uuidCaptcha=&pbEnviar=Pesquisar\n",
      "https://esaj.tjsp.jus.br/cpopg/show.do?processo.codigo=2S0012D1Z0000&processo.foro=100&paginaConsulta=1&conversationId=&dadosConsulta.localPesquisa.cdLocal=100&cbPesquisa=NMPARTE&dadosConsulta.tipoNuProcesso=UNIFICADO&dadosConsulta.valorConsulta=Tribuna%20de%20Santos&uuidCaptcha=&pbEnviar=Pesquisar\n",
      "https://esaj.tjsp.jus.br/cpopg/show.do?processo.codigo=1W0018GMP0000&processo.foro=68&paginaConsulta=1&conversationId=&dadosConsulta.localPesquisa.cdLocal=68&cbPesquisa=NMPARTE&dadosConsulta.tipoNuProcesso=UNIFICADO&dadosConsulta.valorConsulta=Tribuna%20de%20Santos&uuidCaptcha=&pbEnviar=Pesquisar\n"
     ]
    },
    {
     "name": "stderr",
     "output_type": "stream",
     "text": [
      "/home/abraji/Documentos/Code/ctrl_x/lib/python3.6/site-packages/urllib3/connectionpool.py:851: InsecureRequestWarning: Unverified HTTPS request is being made. Adding certificate verification is strongly advised. See: https://urllib3.readthedocs.io/en/latest/advanced-usage.html#ssl-warnings\n",
      "  InsecureRequestWarning)\n"
     ]
    },
    {
     "name": "stdout",
     "output_type": "stream",
     "text": [
      "https://esaj.tjsp.jus.br/cpopg/show.do?processo.codigo=4D00018UZ0000&processo.foro=157&paginaConsulta=1&conversationId=&dadosConsulta.localPesquisa.cdLocal=157&cbPesquisa=NMPARTE&dadosConsulta.tipoNuProcesso=UNIFICADO&dadosConsulta.valorConsulta=Tribuna%20de%20Santos&uuidCaptcha=&pbEnviar=Pesquisar\n",
      "https://esaj.tjsp.jus.br/cpopg/show.do?processo.codigo=4D00018HF0000&processo.foro=157&paginaConsulta=1&conversationId=&dadosConsulta.localPesquisa.cdLocal=157&cbPesquisa=NMPARTE&dadosConsulta.tipoNuProcesso=UNIFICADO&dadosConsulta.valorConsulta=Tribuna%20de%20Santos&uuidCaptcha=&pbEnviar=Pesquisar\n",
      "https://esaj.tjsp.jus.br/cpopg/show.do?processo.codigo=4D00016XG0000&processo.foro=157&paginaConsulta=1&conversationId=&dadosConsulta.localPesquisa.cdLocal=157&cbPesquisa=NMPARTE&dadosConsulta.tipoNuProcesso=UNIFICADO&dadosConsulta.valorConsulta=Tribuna%20de%20Santos&uuidCaptcha=&pbEnviar=Pesquisar\n",
      "https://esaj.tjsp.jus.br/cpopg/show.do?processo.codigo=4D00016JY0000&processo.foro=157&paginaConsulta=1&conversationId=&dadosConsulta.localPesquisa.cdLocal=157&cbPesquisa=NMPARTE&dadosConsulta.tipoNuProcesso=UNIFICADO&dadosConsulta.valorConsulta=Tribuna%20de%20Santos&uuidCaptcha=&pbEnviar=Pesquisar\n",
      "https://esaj.tjsp.jus.br/cpopg/show.do?processo.codigo=D900093010000&processo.foro=477&paginaConsulta=1&conversationId=&dadosConsulta.localPesquisa.cdLocal=477&cbPesquisa=NMPARTE&dadosConsulta.tipoNuProcesso=UNIFICADO&dadosConsulta.valorConsulta=Tribuna%20de%20Santos&uuidCaptcha=&pbEnviar=Pesquisar\n",
      "https://esaj.tjsp.jus.br/cpopg/show.do?processo.codigo=D90007KDD0000&processo.foro=477&paginaConsulta=1&conversationId=&dadosConsulta.localPesquisa.cdLocal=477&cbPesquisa=NMPARTE&dadosConsulta.tipoNuProcesso=UNIFICADO&dadosConsulta.valorConsulta=Tribuna%20de%20Santos&uuidCaptcha=&pbEnviar=Pesquisar\n",
      "https://esaj.tjsp.jus.br/cpopg/show.do?processo.codigo=D90006W3M0000&processo.foro=477&paginaConsulta=1&conversationId=&dadosConsulta.localPesquisa.cdLocal=477&cbPesquisa=NMPARTE&dadosConsulta.tipoNuProcesso=UNIFICADO&dadosConsulta.valorConsulta=Tribuna%20de%20Santos&uuidCaptcha=&pbEnviar=Pesquisar\n",
      "https://esaj.tjsp.jus.br/cpopg/show.do?processo.codigo=D90006U9X0000&processo.foro=477&paginaConsulta=1&conversationId=&dadosConsulta.localPesquisa.cdLocal=477&cbPesquisa=NMPARTE&dadosConsulta.tipoNuProcesso=UNIFICADO&dadosConsulta.valorConsulta=Tribuna%20de%20Santos&uuidCaptcha=&pbEnviar=Pesquisar\n",
      "https://esaj.tjsp.jus.br/cpopg/show.do?processo.codigo=D90006M2D0000&processo.foro=477&paginaConsulta=1&conversationId=&dadosConsulta.localPesquisa.cdLocal=477&cbPesquisa=NMPARTE&dadosConsulta.tipoNuProcesso=UNIFICADO&dadosConsulta.valorConsulta=Tribuna%20de%20Santos&uuidCaptcha=&pbEnviar=Pesquisar\n",
      "https://esaj.tjsp.jus.br/cpopg/show.do?processo.codigo=FM000EE0O0000&processo.foro=562&paginaConsulta=1&conversationId=&dadosConsulta.localPesquisa.cdLocal=562&cbPesquisa=NMPARTE&dadosConsulta.tipoNuProcesso=UNIFICADO&dadosConsulta.valorConsulta=Tribuna%20de%20Santos&uuidCaptcha=&pbEnviar=Pesquisar\n",
      "https://esaj.tjsp.jus.br/cpopg/show.do?processo.codigo=FM000E2YK0000&processo.foro=562&paginaConsulta=1&conversationId=&dadosConsulta.localPesquisa.cdLocal=562&cbPesquisa=NMPARTE&dadosConsulta.tipoNuProcesso=UNIFICADO&dadosConsulta.valorConsulta=Tribuna%20de%20Santos&uuidCaptcha=&pbEnviar=Pesquisar\n",
      "https://esaj.tjsp.jus.br/cpopg/show.do?processo.codigo=FM000DXP20000&processo.foro=562&paginaConsulta=1&conversationId=&dadosConsulta.localPesquisa.cdLocal=562&cbPesquisa=NMPARTE&dadosConsulta.tipoNuProcesso=UNIFICADO&dadosConsulta.valorConsulta=Tribuna%20de%20Santos&uuidCaptcha=&pbEnviar=Pesquisar\n",
      "https://esaj.tjsp.jus.br/cpopg/show.do?processo.codigo=FM000DVQU0000&processo.foro=562&paginaConsulta=1&conversationId=&dadosConsulta.localPesquisa.cdLocal=562&cbPesquisa=NMPARTE&dadosConsulta.tipoNuProcesso=UNIFICADO&dadosConsulta.valorConsulta=Tribuna%20de%20Santos&uuidCaptcha=&pbEnviar=Pesquisar\n",
      "https://esaj.tjsp.jus.br/cpopg/show.do?processo.codigo=FM000BON20000&processo.foro=562&paginaConsulta=1&conversationId=&dadosConsulta.localPesquisa.cdLocal=562&cbPesquisa=NMPARTE&dadosConsulta.tipoNuProcesso=UNIFICADO&dadosConsulta.valorConsulta=Tribuna%20de%20Santos&uuidCaptcha=&pbEnviar=Pesquisar\n",
      "https://esaj.tjsp.jus.br/cpopg/show.do?processo.codigo=FM000AWNQ0000&processo.foro=562&paginaConsulta=1&conversationId=&dadosConsulta.localPesquisa.cdLocal=562&cbPesquisa=NMPARTE&dadosConsulta.tipoNuProcesso=UNIFICADO&dadosConsulta.valorConsulta=Tribuna%20de%20Santos&uuidCaptcha=&pbEnviar=Pesquisar\n",
      "https://esaj.tjsp.jus.br/cpopg/show.do?processo.codigo=FM000AW4Y0000&processo.foro=562&paginaConsulta=1&conversationId=&dadosConsulta.localPesquisa.cdLocal=562&cbPesquisa=NMPARTE&dadosConsulta.tipoNuProcesso=UNIFICADO&dadosConsulta.valorConsulta=Tribuna%20de%20Santos&uuidCaptcha=&pbEnviar=Pesquisar\n",
      "https://esaj.tjsp.jus.br/cpopg/show.do?processo.codigo=FM000ATJU0000&processo.foro=562&paginaConsulta=1&conversationId=&dadosConsulta.localPesquisa.cdLocal=562&cbPesquisa=NMPARTE&dadosConsulta.tipoNuProcesso=UNIFICADO&dadosConsulta.valorConsulta=Tribuna%20de%20Santos&uuidCaptcha=&pbEnviar=Pesquisar\n",
      "https://esaj.tjsp.jus.br/cpopg/show.do?processo.codigo=FM000ATJT0000&processo.foro=562&paginaConsulta=1&conversationId=&dadosConsulta.localPesquisa.cdLocal=562&cbPesquisa=NMPARTE&dadosConsulta.tipoNuProcesso=UNIFICADO&dadosConsulta.valorConsulta=Tribuna%20de%20Santos&uuidCaptcha=&pbEnviar=Pesquisar\n",
      "https://esaj.tjsp.jus.br/cpopg/show.do?processo.codigo=FM000AOQH0000&processo.foro=562&paginaConsulta=1&conversationId=&dadosConsulta.localPesquisa.cdLocal=562&cbPesquisa=NMPARTE&dadosConsulta.tipoNuProcesso=UNIFICADO&dadosConsulta.valorConsulta=Tribuna%20de%20Santos&uuidCaptcha=&pbEnviar=Pesquisar\n",
      "https://esaj.tjsp.jus.br/cpopg/show.do?processo.codigo=FM000AKVP0000&processo.foro=562&paginaConsulta=1&conversationId=&dadosConsulta.localPesquisa.cdLocal=562&cbPesquisa=NMPARTE&dadosConsulta.tipoNuProcesso=UNIFICADO&dadosConsulta.valorConsulta=Tribuna%20de%20Santos&uuidCaptcha=&pbEnviar=Pesquisar\n",
      "https://esaj.tjsp.jus.br/cpopg/show.do?processo.codigo=FM000998N0000&processo.foro=562&paginaConsulta=1&conversationId=&dadosConsulta.localPesquisa.cdLocal=562&cbPesquisa=NMPARTE&dadosConsulta.tipoNuProcesso=UNIFICADO&dadosConsulta.valorConsulta=Tribuna%20de%20Santos&uuidCaptcha=&pbEnviar=Pesquisar\n",
      "https://esaj.tjsp.jus.br/cpopg/show.do?processo.codigo=FM00096440000&processo.foro=562&paginaConsulta=1&conversationId=&dadosConsulta.localPesquisa.cdLocal=562&cbPesquisa=NMPARTE&dadosConsulta.tipoNuProcesso=UNIFICADO&dadosConsulta.valorConsulta=Tribuna%20de%20Santos&uuidCaptcha=&pbEnviar=Pesquisar\n",
      "https://esaj.tjsp.jus.br/cpopg/show.do?processo.codigo=FM0008A720000&processo.foro=562&paginaConsulta=1&conversationId=&dadosConsulta.localPesquisa.cdLocal=562&cbPesquisa=NMPARTE&dadosConsulta.tipoNuProcesso=UNIFICADO&dadosConsulta.valorConsulta=Tribuna%20de%20Santos&uuidCaptcha=&pbEnviar=Pesquisar\n",
      "https://esaj.tjsp.jus.br/cpopg/show.do?processo.codigo=FM00087BM0000&processo.foro=562&paginaConsulta=1&conversationId=&dadosConsulta.localPesquisa.cdLocal=562&cbPesquisa=NMPARTE&dadosConsulta.tipoNuProcesso=UNIFICADO&dadosConsulta.valorConsulta=Tribuna%20de%20Santos&uuidCaptcha=&pbEnviar=Pesquisar\n",
      "https://esaj.tjsp.jus.br/cpopg/show.do?processo.codigo=FM0007SNB0000&processo.foro=562&paginaConsulta=1&conversationId=&dadosConsulta.localPesquisa.cdLocal=562&cbPesquisa=NMPARTE&dadosConsulta.tipoNuProcesso=UNIFICADO&dadosConsulta.valorConsulta=Tribuna%20de%20Santos&uuidCaptcha=&pbEnviar=Pesquisar\n",
      "https://esaj.tjsp.jus.br/cpopg/show.do?processo.codigo=FM0007RH30000&processo.foro=562&paginaConsulta=1&conversationId=&dadosConsulta.localPesquisa.cdLocal=562&cbPesquisa=NMPARTE&dadosConsulta.tipoNuProcesso=UNIFICADO&dadosConsulta.valorConsulta=Tribuna%20de%20Santos&uuidCaptcha=&pbEnviar=Pesquisar\n",
      "https://esaj.tjsp.jus.br/cpopg/show.do?processo.codigo=GE00088NC0000&processo.foro=590&paginaConsulta=1&conversationId=&dadosConsulta.localPesquisa.cdLocal=590&cbPesquisa=NMPARTE&dadosConsulta.tipoNuProcesso=UNIFICADO&dadosConsulta.valorConsulta=Tribuna%20de%20Santos&uuidCaptcha=&pbEnviar=Pesquisar\n"
     ]
    },
    {
     "name": "stderr",
     "output_type": "stream",
     "text": [
      "/home/abraji/Documentos/Code/ctrl_x/lib/python3.6/site-packages/urllib3/connectionpool.py:851: InsecureRequestWarning: Unverified HTTPS request is being made. Adding certificate verification is strongly advised. See: https://urllib3.readthedocs.io/en/latest/advanced-usage.html#ssl-warnings\n",
      "  InsecureRequestWarning)\n"
     ]
    },
    {
     "name": "stdout",
     "output_type": "stream",
     "text": [
      "https://esaj.tjsp.jus.br/cpopg/show.do?processo.codigo=GE00085090000&processo.foro=590&paginaConsulta=1&conversationId=&dadosConsulta.localPesquisa.cdLocal=590&cbPesquisa=NMPARTE&dadosConsulta.tipoNuProcesso=UNIFICADO&dadosConsulta.valorConsulta=Tribuna%20de%20Santos&uuidCaptcha=&pbEnviar=Pesquisar\n"
     ]
    },
    {
     "name": "stderr",
     "output_type": "stream",
     "text": [
      "/home/abraji/Documentos/Code/ctrl_x/lib/python3.6/site-packages/urllib3/connectionpool.py:851: InsecureRequestWarning: Unverified HTTPS request is being made. Adding certificate verification is strongly advised. See: https://urllib3.readthedocs.io/en/latest/advanced-usage.html#ssl-warnings\n",
      "  InsecureRequestWarning)\n"
     ]
    },
    {
     "name": "stdout",
     "output_type": "stream",
     "text": [
      "https://esaj.tjsp.jus.br/cpopg/show.do?processo.codigo=GE00082XV0000&processo.foro=590&paginaConsulta=1&conversationId=&dadosConsulta.localPesquisa.cdLocal=590&cbPesquisa=NMPARTE&dadosConsulta.tipoNuProcesso=UNIFICADO&dadosConsulta.valorConsulta=Tribuna%20de%20Santos&uuidCaptcha=&pbEnviar=Pesquisar\n",
      "https://esaj.tjsp.jus.br/cpopg/show.do?processo.codigo=GE0007S1A0000&processo.foro=590&paginaConsulta=1&conversationId=&dadosConsulta.localPesquisa.cdLocal=590&cbPesquisa=NMPARTE&dadosConsulta.tipoNuProcesso=UNIFICADO&dadosConsulta.valorConsulta=Tribuna%20de%20Santos&uuidCaptcha=&pbEnviar=Pesquisar\n",
      "https://esaj.tjsp.jus.br/cpopg/show.do?processo.codigo=GE0007QM10000&processo.foro=590&paginaConsulta=1&conversationId=&dadosConsulta.localPesquisa.cdLocal=590&cbPesquisa=NMPARTE&dadosConsulta.tipoNuProcesso=UNIFICADO&dadosConsulta.valorConsulta=Tribuna%20de%20Santos&uuidCaptcha=&pbEnviar=Pesquisar\n",
      "https://esaj.tjsp.jus.br/cpopg/show.do?processo.codigo=GE0007MGG0000&processo.foro=590&paginaConsulta=1&conversationId=&dadosConsulta.localPesquisa.cdLocal=590&cbPesquisa=NMPARTE&dadosConsulta.tipoNuProcesso=UNIFICADO&dadosConsulta.valorConsulta=Tribuna%20de%20Santos&uuidCaptcha=&pbEnviar=Pesquisar\n",
      "https://esaj.tjsp.jus.br/cpopg/show.do?processo.codigo=GE0007AKF0000&processo.foro=590&paginaConsulta=1&conversationId=&dadosConsulta.localPesquisa.cdLocal=590&cbPesquisa=NMPARTE&dadosConsulta.tipoNuProcesso=UNIFICADO&dadosConsulta.valorConsulta=Tribuna%20de%20Santos&uuidCaptcha=&pbEnviar=Pesquisar\n",
      "https://esaj.tjsp.jus.br/cpopg/show.do?processo.codigo=GE00079O40000&processo.foro=590&paginaConsulta=1&conversationId=&dadosConsulta.localPesquisa.cdLocal=590&cbPesquisa=NMPARTE&dadosConsulta.tipoNuProcesso=UNIFICADO&dadosConsulta.valorConsulta=Tribuna%20de%20Santos&uuidCaptcha=&pbEnviar=Pesquisar\n",
      "https://esaj.tjsp.jus.br/cpopg/show.do?processo.codigo=GE000773U0000&processo.foro=590&paginaConsulta=1&conversationId=&dadosConsulta.localPesquisa.cdLocal=590&cbPesquisa=NMPARTE&dadosConsulta.tipoNuProcesso=UNIFICADO&dadosConsulta.valorConsulta=Tribuna%20de%20Santos&uuidCaptcha=&pbEnviar=Pesquisar\n",
      "https://esaj.tjsp.jus.br/cpopg/show.do?processo.codigo=GE00060B20000&processo.foro=590&paginaConsulta=1&conversationId=&dadosConsulta.localPesquisa.cdLocal=590&cbPesquisa=NMPARTE&dadosConsulta.tipoNuProcesso=UNIFICADO&dadosConsulta.valorConsulta=Tribuna%20de%20Santos&uuidCaptcha=&pbEnviar=Pesquisar\n",
      "https://esaj.tjsp.jus.br/cpopg/show.do?processo.codigo=GE0005FMU0000&processo.foro=590&paginaConsulta=1&conversationId=&dadosConsulta.localPesquisa.cdLocal=590&cbPesquisa=NMPARTE&dadosConsulta.tipoNuProcesso=UNIFICADO&dadosConsulta.valorConsulta=Tribuna%20de%20Santos&uuidCaptcha=&pbEnviar=Pesquisar\n",
      "https://esaj.tjsp.jus.br/cpopg/show.do?processo.codigo=GE000562J0000&processo.foro=590&paginaConsulta=1&conversationId=&dadosConsulta.localPesquisa.cdLocal=590&cbPesquisa=NMPARTE&dadosConsulta.tipoNuProcesso=UNIFICADO&dadosConsulta.valorConsulta=Tribuna%20de%20Santos&uuidCaptcha=&pbEnviar=Pesquisar\n",
      "https://esaj.tjsp.jus.br/cpopg/show.do?processo.codigo=GE000562B0000&processo.foro=590&paginaConsulta=1&conversationId=&dadosConsulta.localPesquisa.cdLocal=590&cbPesquisa=NMPARTE&dadosConsulta.tipoNuProcesso=UNIFICADO&dadosConsulta.valorConsulta=Tribuna%20de%20Santos&uuidCaptcha=&pbEnviar=Pesquisar\n",
      "https://esaj.tjsp.jus.br/cpopg/show.do?processo.codigo=GE00053OU0000&processo.foro=590&paginaConsulta=1&conversationId=&dadosConsulta.localPesquisa.cdLocal=590&cbPesquisa=NMPARTE&dadosConsulta.tipoNuProcesso=UNIFICADO&dadosConsulta.valorConsulta=Tribuna%20de%20Santos&uuidCaptcha=&pbEnviar=Pesquisar\n",
      "https://esaj.tjsp.jus.br/cpopg/show.do?processo.codigo=090015BIX0000&processo.foro=2&paginaConsulta=1&conversationId=&dadosConsulta.localPesquisa.cdLocal=2&cbPesquisa=NMPARTE&dadosConsulta.tipoNuProcesso=UNIFICADO&dadosConsulta.valorConsulta=Tribuna%20de%20Santos&uuidCaptcha=&pbEnviar=Pesquisar\n",
      "https://esaj.tjsp.jus.br/cpopg/show.do?processo.codigo=02001ICX50000&processo.foro=2&paginaConsulta=1&conversationId=&dadosConsulta.localPesquisa.cdLocal=2&cbPesquisa=NMPARTE&dadosConsulta.tipoNuProcesso=UNIFICADO&dadosConsulta.valorConsulta=Tribuna%20de%20Santos&uuidCaptcha=&pbEnviar=Pesquisar\n",
      "https://esaj.tjsp.jus.br/cpopg/show.do?processo.codigo=4H0004PXF0000&processo.foro=161&paginaConsulta=1&conversationId=&dadosConsulta.localPesquisa.cdLocal=161&cbPesquisa=NMPARTE&dadosConsulta.tipoNuProcesso=UNIFICADO&dadosConsulta.valorConsulta=Diario%20do%20Grande%20ABC&uuidCaptcha=&pbEnviar=Pesquisar\n",
      "https://esaj.tjsp.jus.br/cpopg/show.do?processo.codigo=9O0004FDY0000&processo.foro=348&paginaConsulta=1&conversationId=&dadosConsulta.localPesquisa.cdLocal=348&cbPesquisa=NMPARTE&dadosConsulta.tipoNuProcesso=UNIFICADO&dadosConsulta.valorConsulta=Diario%20do%20Grande%20ABC&uuidCaptcha=&pbEnviar=Pesquisar\n",
      "https://esaj.tjsp.jus.br/cpopg/show.do?processo.codigo=FE000972Z0000&processo.foro=554&paginaConsulta=1&conversationId=&dadosConsulta.localPesquisa.cdLocal=554&cbPesquisa=NMPARTE&dadosConsulta.tipoNuProcesso=UNIFICADO&dadosConsulta.valorConsulta=Diario%20do%20Grande%20ABC&uuidCaptcha=&pbEnviar=Pesquisar\n",
      "https://esaj.tjsp.jus.br/cpopg/show.do?processo.codigo=FE0009KT50000&processo.foro=554&paginaConsulta=1&conversationId=&dadosConsulta.localPesquisa.cdLocal=554&cbPesquisa=NMPARTE&dadosConsulta.tipoNuProcesso=UNIFICADO&dadosConsulta.valorConsulta=Diario%20do%20Grande%20ABC&uuidCaptcha=&pbEnviar=Pesquisar\n",
      "https://esaj.tjsp.jus.br/cpopg/show.do?processo.codigo=FE0009KT90000&processo.foro=554&paginaConsulta=1&conversationId=&dadosConsulta.localPesquisa.cdLocal=554&cbPesquisa=NMPARTE&dadosConsulta.tipoNuProcesso=UNIFICADO&dadosConsulta.valorConsulta=Diario%20do%20Grande%20ABC&uuidCaptcha=&pbEnviar=Pesquisar\n",
      "https://esaj.tjsp.jus.br/cpopg/show.do?processo.codigo=FE0009HAG0000&processo.foro=554&paginaConsulta=1&conversationId=&dadosConsulta.localPesquisa.cdLocal=554&cbPesquisa=NMPARTE&dadosConsulta.tipoNuProcesso=UNIFICADO&dadosConsulta.valorConsulta=Diario%20do%20Grande%20ABC&uuidCaptcha=&pbEnviar=Pesquisar\n",
      "https://esaj.tjsp.jus.br/cpopg/show.do?processo.codigo=FE0009G0S0000&processo.foro=554&paginaConsulta=1&conversationId=&dadosConsulta.localPesquisa.cdLocal=554&cbPesquisa=NMPARTE&dadosConsulta.tipoNuProcesso=UNIFICADO&dadosConsulta.valorConsulta=Diario%20do%20Grande%20ABC&uuidCaptcha=&pbEnviar=Pesquisar\n",
      "https://esaj.tjsp.jus.br/cpopg/show.do?processo.codigo=FE00096GM0000&processo.foro=554&paginaConsulta=1&conversationId=&dadosConsulta.localPesquisa.cdLocal=554&cbPesquisa=NMPARTE&dadosConsulta.tipoNuProcesso=UNIFICADO&dadosConsulta.valorConsulta=Diario%20do%20Grande%20ABC&uuidCaptcha=&pbEnviar=Pesquisar\n",
      "https://esaj.tjsp.jus.br/cpopg/show.do?processo.codigo=FE0008L440000&processo.foro=554&paginaConsulta=1&conversationId=&dadosConsulta.localPesquisa.cdLocal=554&cbPesquisa=NMPARTE&dadosConsulta.tipoNuProcesso=UNIFICADO&dadosConsulta.valorConsulta=Diario%20do%20Grande%20ABC&uuidCaptcha=&pbEnviar=Pesquisar\n",
      "https://esaj.tjsp.jus.br/cpopg/show.do?processo.codigo=FE0008GQN0000&processo.foro=554&paginaConsulta=1&conversationId=&dadosConsulta.localPesquisa.cdLocal=554&cbPesquisa=NMPARTE&dadosConsulta.tipoNuProcesso=UNIFICADO&dadosConsulta.valorConsulta=Diario%20do%20Grande%20ABC&uuidCaptcha=&pbEnviar=Pesquisar\n",
      "https://esaj.tjsp.jus.br/cpopg/show.do?processo.codigo=FE0005WSG0000&processo.foro=554&paginaConsulta=1&conversationId=&dadosConsulta.localPesquisa.cdLocal=554&cbPesquisa=NMPARTE&dadosConsulta.tipoNuProcesso=UNIFICADO&dadosConsulta.valorConsulta=Diario%20do%20Grande%20ABC&uuidCaptcha=&pbEnviar=Pesquisar\n",
      "https://esaj.tjsp.jus.br/cpopg/show.do?processo.codigo=FO0009TSU0000&processo.foro=564&paginaConsulta=1&conversationId=&dadosConsulta.localPesquisa.cdLocal=564&cbPesquisa=NMPARTE&dadosConsulta.tipoNuProcesso=UNIFICADO&dadosConsulta.valorConsulta=Diario%20do%20Grande%20ABC&uuidCaptcha=&pbEnviar=Pesquisar\n"
     ]
    }
   ],
   "source": [
    "for num, row in df_processos.iterrows():\n",
    "    time.sleep(1)\n",
    "    \n",
    "    link = row['link']\n",
    "    num_processo = row['num_processo']\n",
    "    nome_parte = row['nome_parte']\n",
    "    tipo = row['tipo']\n",
    "    parte_especie = row['parte_especie']\n",
    "    foro = row['foro']\n",
    "    assunto = row['assunto']\n",
    "    mais_detalhes = row['mais_detalhes']\n",
    "    magistrado = row['magistrado']\n",
    "    valor_acao = row['valor_acao']\n",
    "    \n",
    "    print(link)\n",
    "    #driver = webdriver.Chrome()\n",
    "    driver = webdriver.Firefox(executable_path=firefoxPath)\n",
    "    driver.get(link)\n",
    "    \n",
    "    try:      \n",
    "        WebDriverWait(driver, 5).until(EC.element_to_be_clickable((By.CSS_SELECTOR, '#linkmovimentacoes'))).click()\n",
    "        time.sleep(1)\n",
    "        pd.options.mode.chained_assignment = None\n",
    "        tables = pd.read_html(driver.find_element_by_css_selector('#divLinksTituloBlocoMovimentacoes + table').get_attribute('outerHTML'))\n",
    "        result = tables[0]\n",
    "        result.drop(['Unnamed: 1'], axis=1, inplace = True)\n",
    "        driver.quit()\n",
    "        result['num_processo'] = num_processo\n",
    "        result['link'] = link\n",
    "        result['nome_parte'] = nome_parte\n",
    "        result['tipo'] = tipo\n",
    "        result['parte_especie'] = parte_especie\n",
    "        result['foro'] = foro\n",
    "        result['assunto'] = assunto\n",
    "        result['mais_detalhes'] = mais_detalhes\n",
    "        result['magistrado'] = magistrado\n",
    "        result['valor_acao'] = valor_acao\n",
    "        \n",
    "        \n",
    "    except TimeoutException or NoSuchElementException:\n",
    "        r = requests.get(link, verify = False)\n",
    "        tables = pd.read_html(r.content)\n",
    "        result = tables[4].head(6)\n",
    "        driver.quit()\n",
    "        result['num_processo'] = num_processo\n",
    "        result['link'] = link\n",
    "        result['nome_parte'] = nome_parte\n",
    "        result['tipo'] = tipo\n",
    "        result['parte_especie'] = parte_especie\n",
    "        result['foro'] = foro\n",
    "        result['assunto'] = assunto\n",
    "        result['mais_detalhes'] = mais_detalhes\n",
    "        result['magistrado'] = magistrado\n",
    "        result['valor_acao'] = valor_acao\n",
    "        \n",
    "   \n",
    "    \n",
    "    if contagem == 0:\n",
    "        df_movimenta = result\n",
    "    else:\n",
    "        df_movimenta = pd.concat([df_movimenta, result], sort=True)\n",
    "        \n",
    "    contagem = contagem + 1"
   ]
  },
  {
   "cell_type": "code",
   "execution_count": null,
   "metadata": {},
   "outputs": [],
   "source": []
  },
  {
   "cell_type": "code",
   "execution_count": null,
   "metadata": {},
   "outputs": [],
   "source": []
  },
  {
   "cell_type": "code",
   "execution_count": null,
   "metadata": {},
   "outputs": [],
   "source": []
  },
  {
   "cell_type": "code",
   "execution_count": 21,
   "metadata": {},
   "outputs": [
    {
     "data": {
      "text/html": [
       "<div>\n",
       "<style scoped>\n",
       "    .dataframe tbody tr th:only-of-type {\n",
       "        vertical-align: middle;\n",
       "    }\n",
       "\n",
       "    .dataframe tbody tr th {\n",
       "        vertical-align: top;\n",
       "    }\n",
       "\n",
       "    .dataframe thead th {\n",
       "        text-align: right;\n",
       "    }\n",
       "</style>\n",
       "<table border=\"1\" class=\"dataframe\">\n",
       "  <thead>\n",
       "    <tr style=\"text-align: right;\">\n",
       "      <th></th>\n",
       "      <th>Data</th>\n",
       "      <th>Movimento</th>\n",
       "      <th>Unnamed: 1</th>\n",
       "      <th>assunto</th>\n",
       "      <th>foro</th>\n",
       "      <th>link</th>\n",
       "      <th>magistrado</th>\n",
       "      <th>mais_detalhes</th>\n",
       "      <th>nome_parte</th>\n",
       "      <th>num_processo</th>\n",
       "      <th>parte_especie</th>\n",
       "      <th>tipo</th>\n",
       "      <th>valor_acao</th>\n",
       "    </tr>\n",
       "  </thead>\n",
       "  <tbody>\n",
       "    <tr>\n",
       "      <th>69</th>\n",
       "      <td>09/08/2018</td>\n",
       "      <td>Certidão de Publicação Expedida  Relação :0320...</td>\n",
       "      <td>NaN</td>\n",
       "      <td>Indenização por Dano Moral</td>\n",
       "      <td>Vara Cível</td>\n",
       "      <td>https://esaj.tjsp.jus.br/cpopg/show.do?process...</td>\n",
       "      <td>FABIANA FEHER RECASENS</td>\n",
       "      <td>NaN</td>\n",
       "      <td>Diario do Grande Abc S/A</td>\n",
       "      <td>1019672-07.2018.8.26.0564</td>\n",
       "      <td>Reqdo</td>\n",
       "      <td>Indenização por Dano Moral</td>\n",
       "      <td>R$         20.000,00</td>\n",
       "    </tr>\n",
       "    <tr>\n",
       "      <th>70</th>\n",
       "      <td>08/08/2018</td>\n",
       "      <td>Remetido ao DJE  Relação: 0320/2018 Teor do at...</td>\n",
       "      <td>NaN</td>\n",
       "      <td>Indenização por Dano Moral</td>\n",
       "      <td>Vara Cível</td>\n",
       "      <td>https://esaj.tjsp.jus.br/cpopg/show.do?process...</td>\n",
       "      <td>FABIANA FEHER RECASENS</td>\n",
       "      <td>NaN</td>\n",
       "      <td>Diario do Grande Abc S/A</td>\n",
       "      <td>1019672-07.2018.8.26.0564</td>\n",
       "      <td>Reqdo</td>\n",
       "      <td>Indenização por Dano Moral</td>\n",
       "      <td>R$         20.000,00</td>\n",
       "    </tr>\n",
       "    <tr>\n",
       "      <th>71</th>\n",
       "      <td>06/08/2018</td>\n",
       "      <td>Determinada a Emenda à Petição Inicial  Vistos...</td>\n",
       "      <td>NaN</td>\n",
       "      <td>Indenização por Dano Moral</td>\n",
       "      <td>Vara Cível</td>\n",
       "      <td>https://esaj.tjsp.jus.br/cpopg/show.do?process...</td>\n",
       "      <td>FABIANA FEHER RECASENS</td>\n",
       "      <td>NaN</td>\n",
       "      <td>Diario do Grande Abc S/A</td>\n",
       "      <td>1019672-07.2018.8.26.0564</td>\n",
       "      <td>Reqdo</td>\n",
       "      <td>Indenização por Dano Moral</td>\n",
       "      <td>R$         20.000,00</td>\n",
       "    </tr>\n",
       "    <tr>\n",
       "      <th>72</th>\n",
       "      <td>06/08/2018</td>\n",
       "      <td>Conclusos para Decisão</td>\n",
       "      <td>NaN</td>\n",
       "      <td>Indenização por Dano Moral</td>\n",
       "      <td>Vara Cível</td>\n",
       "      <td>https://esaj.tjsp.jus.br/cpopg/show.do?process...</td>\n",
       "      <td>FABIANA FEHER RECASENS</td>\n",
       "      <td>NaN</td>\n",
       "      <td>Diario do Grande Abc S/A</td>\n",
       "      <td>1019672-07.2018.8.26.0564</td>\n",
       "      <td>Reqdo</td>\n",
       "      <td>Indenização por Dano Moral</td>\n",
       "      <td>R$         20.000,00</td>\n",
       "    </tr>\n",
       "    <tr>\n",
       "      <th>73</th>\n",
       "      <td>06/08/2018</td>\n",
       "      <td>Distribuído Livremente (por Sorteio) (moviment...</td>\n",
       "      <td>NaN</td>\n",
       "      <td>Indenização por Dano Moral</td>\n",
       "      <td>Vara Cível</td>\n",
       "      <td>https://esaj.tjsp.jus.br/cpopg/show.do?process...</td>\n",
       "      <td>FABIANA FEHER RECASENS</td>\n",
       "      <td>NaN</td>\n",
       "      <td>Diario do Grande Abc S/A</td>\n",
       "      <td>1019672-07.2018.8.26.0564</td>\n",
       "      <td>Reqdo</td>\n",
       "      <td>Indenização por Dano Moral</td>\n",
       "      <td>R$         20.000,00</td>\n",
       "    </tr>\n",
       "  </tbody>\n",
       "</table>\n",
       "</div>"
      ],
      "text/plain": [
       "          Data                                          Movimento Unnamed: 1  \\\n",
       "69  09/08/2018  Certidão de Publicação Expedida  Relação :0320...        NaN   \n",
       "70  08/08/2018  Remetido ao DJE  Relação: 0320/2018 Teor do at...        NaN   \n",
       "71  06/08/2018  Determinada a Emenda à Petição Inicial  Vistos...        NaN   \n",
       "72  06/08/2018                             Conclusos para Decisão        NaN   \n",
       "73  06/08/2018  Distribuído Livremente (por Sorteio) (moviment...        NaN   \n",
       "\n",
       "                       assunto        foro  \\\n",
       "69  Indenização por Dano Moral  Vara Cível   \n",
       "70  Indenização por Dano Moral  Vara Cível   \n",
       "71  Indenização por Dano Moral  Vara Cível   \n",
       "72  Indenização por Dano Moral  Vara Cível   \n",
       "73  Indenização por Dano Moral  Vara Cível   \n",
       "\n",
       "                                                 link              magistrado  \\\n",
       "69  https://esaj.tjsp.jus.br/cpopg/show.do?process...  FABIANA FEHER RECASENS   \n",
       "70  https://esaj.tjsp.jus.br/cpopg/show.do?process...  FABIANA FEHER RECASENS   \n",
       "71  https://esaj.tjsp.jus.br/cpopg/show.do?process...  FABIANA FEHER RECASENS   \n",
       "72  https://esaj.tjsp.jus.br/cpopg/show.do?process...  FABIANA FEHER RECASENS   \n",
       "73  https://esaj.tjsp.jus.br/cpopg/show.do?process...  FABIANA FEHER RECASENS   \n",
       "\n",
       "   mais_detalhes                nome_parte               num_processo  \\\n",
       "69           NaN  Diario do Grande Abc S/A  1019672-07.2018.8.26.0564   \n",
       "70           NaN  Diario do Grande Abc S/A  1019672-07.2018.8.26.0564   \n",
       "71           NaN  Diario do Grande Abc S/A  1019672-07.2018.8.26.0564   \n",
       "72           NaN  Diario do Grande Abc S/A  1019672-07.2018.8.26.0564   \n",
       "73           NaN  Diario do Grande Abc S/A  1019672-07.2018.8.26.0564   \n",
       "\n",
       "   parte_especie                        tipo            valor_acao  \n",
       "69         Reqdo  Indenização por Dano Moral  R$         20.000,00  \n",
       "70         Reqdo  Indenização por Dano Moral  R$         20.000,00  \n",
       "71         Reqdo  Indenização por Dano Moral  R$         20.000,00  \n",
       "72         Reqdo  Indenização por Dano Moral  R$         20.000,00  \n",
       "73         Reqdo  Indenização por Dano Moral  R$         20.000,00  "
      ]
     },
     "execution_count": 21,
     "metadata": {},
     "output_type": "execute_result"
    }
   ],
   "source": [
    "df_movimenta.tail()"
   ]
  },
  {
   "cell_type": "code",
   "execution_count": 23,
   "metadata": {},
   "outputs": [],
   "source": [
    "df_movimenta.to_excel('resultados/processos_tjsp_3ago_terceira_fase.xlsx',sheet_name='Sheet1')"
   ]
  },
  {
   "cell_type": "code",
   "execution_count": null,
   "metadata": {},
   "outputs": [],
   "source": []
  },
  {
   "cell_type": "code",
   "execution_count": null,
   "metadata": {},
   "outputs": [],
   "source": []
  },
  {
   "cell_type": "code",
   "execution_count": null,
   "metadata": {},
   "outputs": [],
   "source": []
  }
 ],
 "metadata": {
  "kernelspec": {
   "display_name": "Python 3",
   "language": "python",
   "name": "python3"
  },
  "language_info": {
   "codemirror_mode": {
    "name": "ipython",
    "version": 3
   },
   "file_extension": ".py",
   "mimetype": "text/x-python",
   "name": "python",
   "nbconvert_exporter": "python",
   "pygments_lexer": "ipython3",
   "version": "3.6.8"
  }
 },
 "nbformat": 4,
 "nbformat_minor": 4
}
