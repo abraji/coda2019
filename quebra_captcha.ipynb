{
 "cells": [
  {
   "cell_type": "code",
   "execution_count": null,
   "metadata": {},
   "outputs": [],
   "source": [
    "# Exemplo do mestre Fernando Masanori (@fmasanori) para quebrar captchas\n",
    "# Uso do serviço http://api.dbcapi.me/api"
   ]
  },
  {
   "cell_type": "code",
   "execution_count": null,
   "metadata": {},
   "outputs": [],
   "source": []
  },
  {
   "cell_type": "code",
   "execution_count": 1,
   "metadata": {},
   "outputs": [],
   "source": [
    "from urllib.request import urlretrieve\n",
    "from urllib.request import urlopen\n",
    "from bs4 import BeautifulSoup\n",
    "import subprocess\n",
    "import requests\n"
   ]
  },
  {
   "cell_type": "code",
   "execution_count": null,
   "metadata": {},
   "outputs": [],
   "source": []
  },
  {
   "cell_type": "code",
   "execution_count": 2,
   "metadata": {},
   "outputs": [],
   "source": [
    "html = urlopen(\"http://www.pythonscraping.com/humans-only\")\n",
    "bsObj = BeautifulSoup(html, \"html.parser\")"
   ]
  },
  {
   "cell_type": "code",
   "execution_count": null,
   "metadata": {},
   "outputs": [],
   "source": []
  },
  {
   "cell_type": "code",
   "execution_count": 3,
   "metadata": {},
   "outputs": [],
   "source": [
    "#Gather prepopulated form values\n",
    "imageLocation = bsObj.find(\"img\", {\"title\": \"Image CAPTCHA\"})[\"src\"]\n",
    "formBuildId = bsObj.find(\"input\", {\"name\":\"form_build_id\"})[\"value\"]\n",
    "captchaSid = bsObj.find(\"input\", {\"name\":\"captcha_sid\"})[\"value\"]\n",
    "captchaToken = bsObj.find(\"input\", {\"name\":\"captcha_token\"})[\"value\"]"
   ]
  },
  {
   "cell_type": "code",
   "execution_count": null,
   "metadata": {},
   "outputs": [],
   "source": []
  },
  {
   "cell_type": "code",
   "execution_count": null,
   "metadata": {},
   "outputs": [],
   "source": []
  },
  {
   "cell_type": "code",
   "execution_count": 4,
   "metadata": {},
   "outputs": [
    {
     "data": {
      "text/plain": [
       "('captcha.jpg', <http.client.HTTPMessage at 0x7f84d0aa7898>)"
      ]
     },
     "execution_count": 4,
     "metadata": {},
     "output_type": "execute_result"
    }
   ],
   "source": [
    "captchaUrl = \"http://pythonscraping.com\"+imageLocation\n",
    "urlretrieve(captchaUrl, \"captcha.jpg\")"
   ]
  },
  {
   "cell_type": "code",
   "execution_count": null,
   "metadata": {},
   "outputs": [],
   "source": []
  },
  {
   "cell_type": "code",
   "execution_count": 5,
   "metadata": {},
   "outputs": [],
   "source": [
    "def verf_captcha(texto_id):\n",
    "    while True:\n",
    "        url_zika = \"http://api.dbcapi.me/api/captcha/%s\" % texto_id\n",
    "        get_solved = requests.get(url_zika,timeout=5)\n",
    "        texto_solved = get_solved.text\n",
    "        texto_solved = texto_solved.split('&')[2].split('=')[1]\n",
    "        if len(texto_solved) > 0:\n",
    "            return texto_solved\n",
    "        else:\n",
    "            pass"
   ]
  },
  {
   "cell_type": "code",
   "execution_count": null,
   "metadata": {},
   "outputs": [],
   "source": []
  },
  {
   "cell_type": "code",
   "execution_count": null,
   "metadata": {},
   "outputs": [],
   "source": [
    "# Dados de acesso"
   ]
  },
  {
   "cell_type": "code",
   "execution_count": 6,
   "metadata": {},
   "outputs": [],
   "source": [
    "data = {\"username\":\"\",\"password\":\"\"}\n",
    "arq = {\"captchafile\":open(\"captcha.jpg\",\"rb\")}"
   ]
  },
  {
   "cell_type": "code",
   "execution_count": null,
   "metadata": {},
   "outputs": [],
   "source": []
  },
  {
   "cell_type": "code",
   "execution_count": 7,
   "metadata": {},
   "outputs": [],
   "source": [
    "req_captcha = requests.post(\"http://api.dbcapi.me/api/captcha\", files=arq, data=data,timeout=5)"
   ]
  },
  {
   "cell_type": "code",
   "execution_count": null,
   "metadata": {},
   "outputs": [],
   "source": []
  },
  {
   "cell_type": "code",
   "execution_count": 8,
   "metadata": {},
   "outputs": [
    {
     "name": "stdout",
     "output_type": "stream",
     "text": [
      "125157575\n"
     ]
    }
   ],
   "source": [
    "texto_id = req_captcha.text\n",
    "texto_id = texto_id.split('&')[1].split('=')[1]\n",
    "print (texto_id)"
   ]
  },
  {
   "cell_type": "code",
   "execution_count": null,
   "metadata": {},
   "outputs": [],
   "source": []
  },
  {
   "cell_type": "code",
   "execution_count": 9,
   "metadata": {},
   "outputs": [
    {
     "name": "stdout",
     "output_type": "stream",
     "text": [
      "XNC8P\n"
     ]
    }
   ],
   "source": [
    "texto_solved = verf_captcha(texto_id)\n",
    "print (texto_solved)"
   ]
  },
  {
   "cell_type": "code",
   "execution_count": null,
   "metadata": {},
   "outputs": [],
   "source": []
  },
  {
   "cell_type": "code",
   "execution_count": 10,
   "metadata": {},
   "outputs": [
    {
     "name": "stdout",
     "output_type": "stream",
     "text": [
      "Captcha solution attempt: XNC8P\n"
     ]
    }
   ],
   "source": [
    "captchaResponse = texto_solved\n",
    "print(\"Captcha solution attempt: \"+captchaResponse)"
   ]
  },
  {
   "cell_type": "code",
   "execution_count": null,
   "metadata": {},
   "outputs": [],
   "source": []
  },
  {
   "cell_type": "code",
   "execution_count": 11,
   "metadata": {},
   "outputs": [
    {
     "name": "stdout",
     "output_type": "stream",
     "text": [
      "\n",
      "Status message\n",
      "Your comment has been queued for review by site administrators and will be published after approval.\n"
     ]
    }
   ],
   "source": [
    "if len(captchaResponse) == 5:\n",
    "    params = {\"captcha_token\":captchaToken, \"captcha_sid\":captchaSid,   \n",
    "              \"form_id\":\"comment_node_page_form\", \"form_build_id\": formBuildId, \n",
    "                  \"captcha_response\":captchaResponse, \"name\":\"Ryan Mitchell\", \n",
    "                  \"subject\": \"I come to seek the Grail\", \n",
    "                  \"comment_body[und][0][value]\": \n",
    "                                           \"...and I am definitely not a bot\"}\n",
    "    r = requests.post(\"http://www.pythonscraping.com/comment/reply/10\", \n",
    "                          data=params)\n",
    "    responseObj = BeautifulSoup(r.text, 'html.parser')\n",
    "    if responseObj.find(\"div\", {\"class\":\"messages\"}) is not None:\n",
    "        res = responseObj.find(\"div\", {\"class\":\"messages\"}).get_text()\n",
    "        print (res)\n",
    "        if 'Error' in res:\n",
    "            req_err = requests.post(\"http://api.dbcapi.me/api/captcha/%s\" %texto_id,\n",
    "                                        data=data,timeout=5)\n",
    "else:\n",
    "    print(\"There was a problem reading the CAPTCHA correctly!\")"
   ]
  },
  {
   "cell_type": "code",
   "execution_count": null,
   "metadata": {},
   "outputs": [],
   "source": []
  }
 ],
 "metadata": {
  "kernelspec": {
   "display_name": "Python 3",
   "language": "python",
   "name": "python3"
  },
  "language_info": {
   "codemirror_mode": {
    "name": "ipython",
    "version": 3
   },
   "file_extension": ".py",
   "mimetype": "text/x-python",
   "name": "python",
   "nbconvert_exporter": "python",
   "pygments_lexer": "ipython3",
   "version": "3.6.8"
  }
 },
 "nbformat": 4,
 "nbformat_minor": 4
}
