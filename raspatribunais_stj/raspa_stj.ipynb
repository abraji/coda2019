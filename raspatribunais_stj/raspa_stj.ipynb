{
 "cells": [
  {
   "cell_type": "code",
   "execution_count": null,
   "metadata": {},
   "outputs": [],
   "source": [
    "# -*- coding: utf-8\n",
    "# Abraji (https://www.abraji.org.br)\n",
    "# Reinaldo Chaves (reinaldo@abraji.org.br)\n",
    "# Programa para buscas de processos no STJ a partir de nomes\n",
    "#"
   ]
  },
  {
   "cell_type": "code",
   "execution_count": null,
   "metadata": {},
   "outputs": [],
   "source": []
  },
  {
   "cell_type": "code",
   "execution_count": 56,
   "metadata": {},
   "outputs": [],
   "source": [
    "from selenium import webdriver\n",
    "from selenium.webdriver.common.by import By\n",
    "from selenium.webdriver.support.ui import WebDriverWait\n",
    "from selenium.webdriver.support import expected_conditions as EC\n",
    "from selenium.common.exceptions import TimeoutException, NoSuchElementException\n",
    "from selenium.webdriver.common.keys import Keys\n",
    "import time\n",
    "import pandas as pd\n",
    "import os"
   ]
  },
  {
   "cell_type": "code",
   "execution_count": null,
   "metadata": {},
   "outputs": [],
   "source": []
  },
  {
   "cell_type": "code",
   "execution_count": 57,
   "metadata": {},
   "outputs": [],
   "source": [
    "# Mostra diretório atual"
   ]
  },
  {
   "cell_type": "code",
   "execution_count": 58,
   "metadata": {},
   "outputs": [
    {
     "name": "stdout",
     "output_type": "stream",
     "text": [
      "/home/abraji/Documentos/Code/coda2019/repo/raspatribunais_stj\n"
     ]
    }
   ],
   "source": [
    "print(os.getcwd())"
   ]
  },
  {
   "cell_type": "code",
   "execution_count": null,
   "metadata": {},
   "outputs": [],
   "source": []
  },
  {
   "cell_type": "code",
   "execution_count": 59,
   "metadata": {},
   "outputs": [],
   "source": [
    "# Acesssa lista de políticos"
   ]
  },
  {
   "cell_type": "code",
   "execution_count": 60,
   "metadata": {},
   "outputs": [],
   "source": [
    "candidatos = pd.read_csv('exemplo_candidatos.csv', encoding='utf-8', converters={'cpf': lambda x: str(x)})"
   ]
  },
  {
   "cell_type": "code",
   "execution_count": 61,
   "metadata": {},
   "outputs": [
    {
     "name": "stdout",
     "output_type": "stream",
     "text": [
      "<class 'pandas.core.frame.DataFrame'>\n",
      "RangeIndex: 4 entries, 0 to 3\n",
      "Data columns (total 4 columns):\n",
      "nome completo        4 non-null object\n",
      "cpf                  4 non-null object\n",
      "cargo_disputado      4 non-null object\n",
      "eleicao_disputado    4 non-null int64\n",
      "dtypes: int64(1), object(3)\n",
      "memory usage: 256.0+ bytes\n"
     ]
    }
   ],
   "source": [
    "candidatos.info()"
   ]
  },
  {
   "cell_type": "code",
   "execution_count": null,
   "metadata": {},
   "outputs": [],
   "source": []
  },
  {
   "cell_type": "code",
   "execution_count": 62,
   "metadata": {},
   "outputs": [],
   "source": [
    "# Indica os locais do Chrome e do Chromedriver"
   ]
  },
  {
   "cell_type": "code",
   "execution_count": 63,
   "metadata": {},
   "outputs": [],
   "source": [
    "# Estão são os locais de exemplo em um computador da ESPM com Windows - cada computador varia o endereço"
   ]
  },
  {
   "cell_type": "code",
   "execution_count": 64,
   "metadata": {},
   "outputs": [],
   "source": [
    "# Por algum motivo que ainda não entendi o Chromedriver mostra um erro quando\n",
    "# busco por nomes com mais de uma página\n",
    "# CHROME = r'C:\\Program Files (x86)\\Google\\Chrome\\Application\\chrome.exe'\n",
    "# CHROMEDRIVER = r'C:\\Users\\Administrador\\Desktop\\chromedriver_win32\\chromedriver'"
   ]
  },
  {
   "cell_type": "code",
   "execution_count": 73,
   "metadata": {},
   "outputs": [],
   "source": [
    "# Por isso testei com o geckodriver, do Mozilla, e aí deu certo\n",
    "firefoxPath = \"/home/abraji/Documentos/Code/geckodriver\""
   ]
  },
  {
   "cell_type": "code",
   "execution_count": null,
   "metadata": {},
   "outputs": [],
   "source": []
  },
  {
   "cell_type": "code",
   "execution_count": 74,
   "metadata": {},
   "outputs": [],
   "source": [
    "# Definir opções do Chrome \n",
    "# chrome_options = webdriver.chrome.options.Options()\n",
    "#chrome_options.add_argument('--window-size=1920,1080')\n",
    "# chrome_options.binary_location = CHROME\n",
    "\n",
    "# Esta opção deixa o navegador fora da tela, ao fundo\n",
    "# chrome_options.add_argument('--headless')"
   ]
  },
  {
   "cell_type": "code",
   "execution_count": null,
   "metadata": {},
   "outputs": [],
   "source": []
  },
  {
   "cell_type": "code",
   "execution_count": 51,
   "metadata": {},
   "outputs": [],
   "source": [
    "# Indica a url principal para buscas"
   ]
  },
  {
   "cell_type": "code",
   "execution_count": 75,
   "metadata": {},
   "outputs": [],
   "source": [
    "link = 'https://ww2.stj.jus.br/processo/pesquisa/?aplicacao=processos.ea'"
   ]
  },
  {
   "cell_type": "code",
   "execution_count": null,
   "metadata": {},
   "outputs": [],
   "source": []
  },
  {
   "cell_type": "code",
   "execution_count": 76,
   "metadata": {},
   "outputs": [],
   "source": [
    "# Rotina principal"
   ]
  },
  {
   "cell_type": "code",
   "execution_count": 77,
   "metadata": {},
   "outputs": [
    {
     "name": "stdout",
     "output_type": "stream",
     "text": [
      "AECIO NEVES DA CUNHA\n",
      "Quantidade de grafias:  2\n",
      "uma_pag\n",
      "Quantidade de processos:  8\n",
      "GERALDO JOSE RODRIGUES ALCKMIN FILHO\n",
      "Quantidade de grafias:  3\n",
      "uma_pag\n",
      "Quantidade de processos:  18\n",
      "RUI COSTA DOS SANTOS\n",
      "Quantidade de grafias:  1\n",
      "mais_de_um\n",
      "Quantidade de processos:  2\n",
      "JOSÉ ROBERTO ARRUDA\n",
      "Quantidade de grafias:  26\n",
      "mais_de_uma_pag\n",
      "Quantidade de links por página:  40\n",
      "Quantidade de links por página:  40\n",
      "Quantidade de links por página:  4\n"
     ]
    }
   ],
   "source": [
    "processos = []\n",
    "#Itera entre os nomes de candidatos\n",
    "for num, row in candidatos.iterrows():\n",
    "    \n",
    "    # Acessa o nome e dados gerais dos politicos\n",
    "    nome = row['nome completo']\n",
    "    cpf = row['cpf']\n",
    "    print(nome)\n",
    "    \n",
    "    # Chama o driver e acessa a primeira página de busca\n",
    "    #driver = webdriver.Chrome(CHROMEDRIVER, options = chrome_options)\n",
    "    driver = webdriver.Firefox(executable_path=firefoxPath)\n",
    "    driver.get(link)\n",
    "    \n",
    "    # Posiciona cursor, preenche e clica\n",
    "    # Aqui exemplo de outro tipo de item que pode ser buscado, o CSS\n",
    "    # Cascading Style Sheets (CSS) é uma \"folha de estilo\" composta por “camadas” e utilizada para \n",
    "    # definir a apresentação (aparência) em páginas da internet que adotam para o seu desenvolvimento linguagens de marcação (como XML, HTML e XHTML)\n",
    "    WebDriverWait(driver, 5).until(EC.element_to_be_clickable((By.CSS_SELECTOR, '#idParteNome'))).click()\n",
    "    time.sleep(1)\n",
    "    driver.find_element_by_xpath('//*[@id=\"idParteNome\"]').send_keys(nome)\n",
    "    time.sleep(6)\n",
    "    WebDriverWait(driver, 20).until(EC.element_to_be_clickable((By.CSS_SELECTOR, '#idBotaoPesquisarFormularioExtendido'))).click()\n",
    "    \n",
    "    # 1 - CAPTURA A QUANTIDADE DE GRAFIAS DE NOMES\n",
    "    time.sleep(10)\n",
    "    grafs = driver.find_element_by_xpath('//*[@id=\"idDivBlocoMensagem\"]/div/b').text\n",
    "    print(\"Quantidade de grafias: \", grafs)\n",
    "    grafs = int(grafs)\n",
    "    \n",
    "    # 2 - SE TIVER APENAS UMA GRAFIA\n",
    "    if grafs == 1:\n",
    "        \n",
    "        # 2.1 - Clica na página do processo\n",
    "        WebDriverWait(driver, 5).until(EC.element_to_be_clickable((By.CSS_SELECTOR, '#idBlocoPessoasInterno > div > span > a > span'))).click()\n",
    "        time.sleep(1)\n",
    "        \n",
    "        # 2.2 - Testa se o nome tem mais de um processo\n",
    "        # Parte do princípio que existe mais de um\n",
    "        tipo = \"mais_de_um\"\n",
    "        try:\n",
    "            driver.find_element_by_xpath('//*[@id=\"idSpanMensagem\"]')\n",
    "        except NoSuchElementException:\n",
    "            tipo = \"um\"\n",
    "        \n",
    "        print(tipo)\n",
    "        \n",
    "        if tipo == \"um\":\n",
    "            # Executa testes para pegar os dados\n",
    "            try:\n",
    "                num_unico = driver.find_element_by_xpath('//*[@id=\"idProcessoDetalhesBloco1\"]/div[6]/span[2]/a').text\n",
    "            except NoSuchElementException:\n",
    "                num_unico = \"sem_numero_unico\"\n",
    "            \n",
    "            try:\n",
    "                nome_proc = driver.find_element_by_xpath('//*[@id=\"idSpanClasseDescricao\"]').text\n",
    "            except NoSuchElementException:\n",
    "                nome_proc = \"sem_nome_encontrado\"\n",
    "            \n",
    "            try:\n",
    "                data_autu = driver.find_element_by_xpath('//*[@id=\"idProcessoDetalhesBloco1\"]/div[5]/span[2]').text\n",
    "            except NoSuchElementException:\n",
    "                data_autu = \"sem_data_encontrada\"\n",
    "        \n",
    "            # Preenche dicionário e lista\n",
    "            dicionario = {\"num_unico\": num_unico,\n",
    "                          \"nome_proc\": nome_proc,\n",
    "                          \"data_autu\": data_autu,\n",
    "                          \"nome\": nome,\n",
    "                          \"cpf\": cpf\n",
    "                             }\n",
    "            processos.append(dicionario)\n",
    "            \n",
    "        elif tipo == \"mais_de_um\":\n",
    "            qt = driver.find_element_by_xpath('//*[@id=\"idDivBlocoMensagem\"]/div/b').text\n",
    "            print(\"Quantidade de processos: \", qt)\n",
    "            qt = int(qt) + 2 # Mais 2 porque a lista começa por 2\n",
    "        \n",
    "            # Faz uma iteração a partir do número encontrado de processos\n",
    "            for item in range(2, qt):\n",
    "            \n",
    "                # Encontra o XPATH de cada link de processo\n",
    "                vez = '//*[@id=\"idBlocoInternoLinhasProcesso\"]/div[' + str(item) + ']/span[1]/span[1]/span[1]/span[2]/a'\n",
    "                WebDriverWait(driver, 5).until(EC.element_to_be_clickable((By.XPATH, vez))).click()\n",
    "                time.sleep(1)\n",
    "            \n",
    "                # Executa testes para pegar os dados\n",
    "                try:\n",
    "                    num_unico = driver.find_element_by_xpath('//*[@id=\"idProcessoDetalhesBloco1\"]/div[6]/span[2]/a').text\n",
    "                except NoSuchElementException:\n",
    "                    num_unico = \"sem_numero_unico\"\n",
    "            \n",
    "                try:\n",
    "                    nome_proc = driver.find_element_by_xpath('//*[@id=\"idSpanClasseDescricao\"]').text\n",
    "                except NoSuchElementException:\n",
    "                    nome_proc = \"sem_nome_encontrado\"\n",
    "            \n",
    "                try:\n",
    "                    data_autu = driver.find_element_by_xpath('//*[@id=\"idProcessoDetalhesBloco1\"]/div[5]/span[2]').text\n",
    "                except NoSuchElementException:\n",
    "                    data_autu = \"sem_data_encontrada\"\n",
    "        \n",
    "                # Preenche dicionário e lista\n",
    "                dicionario = {\"num_unico\": num_unico,\n",
    "                          \"nome_proc\": nome_proc,\n",
    "                          \"data_autu\": data_autu,\n",
    "                          \"nome\": nome,\n",
    "                          \"cpf\": cpf\n",
    "                             }\n",
    "                processos.append(dicionario)\n",
    "        \n",
    "                # Retorna uma página para clicar no próximo processo\n",
    "                driver.execute_script(\"window.history.go(-1)\")\n",
    "        \n",
    "    # 3 - SE TIVER MAIS DE UMA GRAFIA\n",
    "    elif grafs > 1:\n",
    "        # 3.1 - Marca todos as possibilidades de grafia para buscar\n",
    "        WebDriverWait(driver, 5).until(EC.element_to_be_clickable((By.CSS_SELECTOR, '#idBotaoMarcarTodos'))).click()\n",
    "        WebDriverWait(driver, 5).until(EC.element_to_be_clickable((By.CSS_SELECTOR, '#idBotaoPesquisarMarcados'))).click()\n",
    "        time.sleep(1)\n",
    "        \n",
    "        # 3.2 - Testa a paginação de processos\n",
    "        tipo = \"mais_de_uma_pag\"\n",
    "        # Parte do princípio que existe mais de uma\n",
    "        try:\n",
    "            driver.find_element_by_xpath('//*[@id=\"idDivBlocoPaginacaoTopo\"]/div/span/span[2]')\n",
    "        except NoSuchElementException:\n",
    "            tipo = \"uma_pag\"\n",
    "        \n",
    "        print(tipo)\n",
    "        \n",
    "        \n",
    "        if tipo == \"uma_pag\":\n",
    "            # Captura a quantidade de processos encontrados\n",
    "            qt = driver.find_element_by_xpath('//*[@id=\"idDivBlocoMensagem\"]/div/b').text\n",
    "            print(\"Quantidade de processos: \", qt)\n",
    "            qt = int(qt) + 2 # Mais 2 porque a lista começa por 2\n",
    "        \n",
    "            # Faz uma iteração a partir do número encontrado de processos\n",
    "            for item in range(2, qt):\n",
    "            \n",
    "                # Encontra o XPATH de cada link de processo\n",
    "                vez = '//*[@id=\"idBlocoInternoLinhasProcesso\"]/div[' + str(item) + ']/span[1]/span[1]/span[1]/span[2]/a'\n",
    "           \n",
    "                WebDriverWait(driver, 5).until(EC.element_to_be_clickable((By.XPATH, vez))).click()\n",
    "                time.sleep(1)\n",
    "            \n",
    "                # Executa testes para pegar os dados\n",
    "                try:\n",
    "                    num_unico = driver.find_element_by_xpath('//*[@id=\"idProcessoDetalhesBloco1\"]/div[6]/span[2]/a').text\n",
    "                except NoSuchElementException:\n",
    "                    num_unico = \"sem_numero_unico\"\n",
    "            \n",
    "                try:\n",
    "                    nome_proc = driver.find_element_by_xpath('//*[@id=\"idSpanClasseDescricao\"]').text\n",
    "                except NoSuchElementException:\n",
    "                    nome_proc = \"sem_nome_encontrado\"\n",
    "            \n",
    "                try:\n",
    "                    data_autu = driver.find_element_by_xpath('//*[@id=\"idProcessoDetalhesBloco1\"]/div[5]/span[2]').text\n",
    "                except NoSuchElementException:\n",
    "                    data_autu = \"sem_data_encontrada\"\n",
    "        \n",
    "                # Preenche dicionário e lista\n",
    "                dicionario = {\"num_unico\": num_unico,\n",
    "                          \"nome_proc\": nome_proc,\n",
    "                          \"data_autu\": data_autu,\n",
    "                          \"nome\": nome,\n",
    "                          \"cpf\": cpf\n",
    "                             }\n",
    "                processos.append(dicionario)\n",
    "        \n",
    "                # Retorna uma página para clicar no próximo processo\n",
    "                driver.execute_script(\"window.history.go(-1)\")\n",
    "        \n",
    "        # Rotina que entra em todas páginas\n",
    "        elif tipo == \"mais_de_uma_pag\":\n",
    "            # Estabelece uma variável para espera\n",
    "            wait = WebDriverWait(driver, 20)\n",
    "\n",
    "            #...    \n",
    "\n",
    "            while True:\n",
    "                # Captura quantidade dos links da página\n",
    "                links = wait.until(EC.presence_of_all_elements_located((By.XPATH, \"//span[contains(@class,'classSpanNumeroRegistro')]\")))\n",
    "                print(\"Quantidade de links por página: \", len(links))\n",
    "                \n",
    "                # Faz iteração de acordo com quantidade encontrada\n",
    "                for i in range(1, len(links) + 1):\n",
    "                    # Acessa o link direto e clica em\n",
    "                    wait.until(EC.element_to_be_clickable((By.XPATH, f\"(//span[contains(@class,'classSpanNumeroRegistro')])[{i}]//a\"))).click()\n",
    "\n",
    "                    # Executar testes para obter dados\n",
    "                    try:\n",
    "                        num_unico = driver.find_element_by_xpath('//*[@id=\"idProcessoDetalhesBloco1\"]/div[6]/span[2]/a').text\n",
    "                    except NoSuchElementException:\n",
    "                        num_unico = \"sem_numero_unico\"\n",
    "\n",
    "                    try:\n",
    "                        nome_proc = driver.find_element_by_xpath('//*[@id=\"idSpanClasseDescricao\"]').text\n",
    "                    except NoSuchElementException:\n",
    "                        nome_proc = \"sem_nome_encontrado\"\n",
    "\n",
    "                    try:\n",
    "                        data_autu = driver.find_element_by_xpath('//*[@id=\"idProcessoDetalhesBloco1\"]/div[5]/span[2]').text\n",
    "                    except NoSuchElementException:\n",
    "                        data_autu = \"sem_data_encontrada\"\n",
    "\n",
    "                    # Preenche dicionário\n",
    "                    dicionario = {\"num_unico\": num_unico,\n",
    "                          \"nome_proc\": nome_proc,\n",
    "                          \"data_autu\": data_autu,\n",
    "                          \"nome\": nome,\n",
    "                          \"cpf\": cpf\n",
    "                             }\n",
    "                    processos.append(dicionario)\n",
    "\n",
    "                    # Retorne uma página para clicar no próximo processo\n",
    "                    driver.execute_script(\"window.history.go(-1)\")\n",
    "\n",
    "                # Espera o botão de paginação ser carregado    \n",
    "                wait.until(EC.presence_of_element_located((By.CLASS_NAME, \"classSpanPaginacaoImagensDireita\")))\n",
    "    \n",
    "                # Captura o símbolo do botão próxima página\n",
    "                next_page = driver.find_elements_by_css_selector(\".classSpanPaginacaoProximaPagina\")\n",
    "    \n",
    "                # Se não existir sai do loop\n",
    "                if len(next_page) == 0:\n",
    "                    break\n",
    "                # Caso contrário clica no botão\n",
    "                next_page[0].click() \n",
    "                    \n",
    "        \n",
    "    # Fecha o driver\n",
    "    driver.quit()"
   ]
  },
  {
   "cell_type": "code",
   "execution_count": null,
   "metadata": {},
   "outputs": [],
   "source": []
  },
  {
   "cell_type": "code",
   "execution_count": 78,
   "metadata": {},
   "outputs": [],
   "source": [
    "df_processos = pd.DataFrame(processos)"
   ]
  },
  {
   "cell_type": "code",
   "execution_count": 79,
   "metadata": {},
   "outputs": [
    {
     "name": "stdout",
     "output_type": "stream",
     "text": [
      "<class 'pandas.core.frame.DataFrame'>\n",
      "RangeIndex: 112 entries, 0 to 111\n",
      "Data columns (total 5 columns):\n",
      "num_unico    112 non-null object\n",
      "nome_proc    112 non-null object\n",
      "data_autu    112 non-null object\n",
      "nome         112 non-null object\n",
      "cpf          112 non-null object\n",
      "dtypes: object(5)\n",
      "memory usage: 4.5+ KB\n"
     ]
    }
   ],
   "source": [
    "df_processos.info()"
   ]
  },
  {
   "cell_type": "code",
   "execution_count": 80,
   "metadata": {},
   "outputs": [
    {
     "data": {
      "text/html": [
       "<div>\n",
       "<style scoped>\n",
       "    .dataframe tbody tr th:only-of-type {\n",
       "        vertical-align: middle;\n",
       "    }\n",
       "\n",
       "    .dataframe tbody tr th {\n",
       "        vertical-align: top;\n",
       "    }\n",
       "\n",
       "    .dataframe thead th {\n",
       "        text-align: right;\n",
       "    }\n",
       "</style>\n",
       "<table border=\"1\" class=\"dataframe\">\n",
       "  <thead>\n",
       "    <tr style=\"text-align: right;\">\n",
       "      <th></th>\n",
       "      <th>index</th>\n",
       "      <th>num_unico</th>\n",
       "      <th>nome_proc</th>\n",
       "      <th>data_autu</th>\n",
       "      <th>nome</th>\n",
       "      <th>cpf</th>\n",
       "    </tr>\n",
       "  </thead>\n",
       "  <tbody>\n",
       "    <tr>\n",
       "      <th>0</th>\n",
       "      <td>0</td>\n",
       "      <td>2203591-93.2016.8.26.0000</td>\n",
       "      <td>AREsp nº 1380941 / SP</td>\n",
       "      <td>15/10/2018</td>\n",
       "      <td>AECIO NEVES DA CUNHA</td>\n",
       "      <td>66728983791</td>\n",
       "    </tr>\n",
       "    <tr>\n",
       "      <th>1</th>\n",
       "      <td>1</td>\n",
       "      <td>2529203-55.2010.8.13.0024</td>\n",
       "      <td>REsp nº 1702733 / MG</td>\n",
       "      <td>11/11/2016</td>\n",
       "      <td>AECIO NEVES DA CUNHA</td>\n",
       "      <td>66728983791</td>\n",
       "    </tr>\n",
       "    <tr>\n",
       "      <th>2</th>\n",
       "      <td>2</td>\n",
       "      <td>0228610-78.2016.3.00.0000</td>\n",
       "      <td>IJ nº 143 / DF</td>\n",
       "      <td>23/08/2016</td>\n",
       "      <td>AECIO NEVES DA CUNHA</td>\n",
       "      <td>66728983791</td>\n",
       "    </tr>\n",
       "    <tr>\n",
       "      <th>3</th>\n",
       "      <td>3</td>\n",
       "      <td>0146270-33.2014.8.07.0001</td>\n",
       "      <td>AREsp nº 835270 / DF</td>\n",
       "      <td>13/01/2016</td>\n",
       "      <td>AECIO NEVES DA CUNHA</td>\n",
       "      <td>66728983791</td>\n",
       "    </tr>\n",
       "    <tr>\n",
       "      <th>4</th>\n",
       "      <td>4</td>\n",
       "      <td>0140599-31.2010.8.13.0024</td>\n",
       "      <td>REsp nº 1538673 / MG</td>\n",
       "      <td>22/06/2015</td>\n",
       "      <td>AECIO NEVES DA CUNHA</td>\n",
       "      <td>66728983791</td>\n",
       "    </tr>\n",
       "  </tbody>\n",
       "</table>\n",
       "</div>"
      ],
      "text/plain": [
       "   index                  num_unico              nome_proc   data_autu  \\\n",
       "0      0  2203591-93.2016.8.26.0000  AREsp nº 1380941 / SP  15/10/2018   \n",
       "1      1  2529203-55.2010.8.13.0024   REsp nº 1702733 / MG  11/11/2016   \n",
       "2      2  0228610-78.2016.3.00.0000         IJ nº 143 / DF  23/08/2016   \n",
       "3      3  0146270-33.2014.8.07.0001   AREsp nº 835270 / DF  13/01/2016   \n",
       "4      4  0140599-31.2010.8.13.0024   REsp nº 1538673 / MG  22/06/2015   \n",
       "\n",
       "                   nome          cpf  \n",
       "0  AECIO NEVES DA CUNHA  66728983791  \n",
       "1  AECIO NEVES DA CUNHA  66728983791  \n",
       "2  AECIO NEVES DA CUNHA  66728983791  \n",
       "3  AECIO NEVES DA CUNHA  66728983791  \n",
       "4  AECIO NEVES DA CUNHA  66728983791  "
      ]
     },
     "execution_count": 80,
     "metadata": {},
     "output_type": "execute_result"
    }
   ],
   "source": [
    "df_processos.reset_index().head()"
   ]
  },
  {
   "cell_type": "code",
   "execution_count": 81,
   "metadata": {},
   "outputs": [],
   "source": [
    "df_processos.to_excel('processos_politicos_stj.xlsx',sheet_name='Sheet1')"
   ]
  },
  {
   "cell_type": "code",
   "execution_count": null,
   "metadata": {},
   "outputs": [],
   "source": []
  },
  {
   "cell_type": "code",
   "execution_count": null,
   "metadata": {},
   "outputs": [],
   "source": []
  }
 ],
 "metadata": {
  "kernelspec": {
   "display_name": "Python 3",
   "language": "python",
   "name": "python3"
  },
  "language_info": {
   "codemirror_mode": {
    "name": "ipython",
    "version": 3
   },
   "file_extension": ".py",
   "mimetype": "text/x-python",
   "name": "python",
   "nbconvert_exporter": "python",
   "pygments_lexer": "ipython3",
   "version": "3.6.8"
  }
 },
 "nbformat": 4,
 "nbformat_minor": 4
}
