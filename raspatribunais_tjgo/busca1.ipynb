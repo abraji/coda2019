{
 "cells": [
  {
   "cell_type": "code",
   "execution_count": 1,
   "metadata": {},
   "outputs": [],
   "source": [
    "# -*- coding: utf-8\n",
    "# Abraji (https://www.abraji.org.br)\n",
    "# Reinaldo Chaves (reinaldo@abraji.org.br)\n",
    "# Programa para buscas de processos no TJ-GO a partir de um nome\n",
    "#"
   ]
  },
  {
   "cell_type": "code",
   "execution_count": null,
   "metadata": {},
   "outputs": [],
   "source": []
  },
  {
   "cell_type": "code",
   "execution_count": 61,
   "metadata": {},
   "outputs": [],
   "source": [
    "from selenium import webdriver\n",
    "from selenium.common.exceptions import TimeoutException, NoSuchElementException\n",
    "from selenium.webdriver.common.by import By\n",
    "from selenium.webdriver.support.ui import WebDriverWait\n",
    "from selenium.webdriver.support import expected_conditions as EC\n",
    "import pandas as pd\n",
    "import os\n",
    "import time"
   ]
  },
  {
   "cell_type": "code",
   "execution_count": null,
   "metadata": {},
   "outputs": [],
   "source": []
  },
  {
   "cell_type": "code",
   "execution_count": 62,
   "metadata": {},
   "outputs": [],
   "source": [
    "# Verifica diretório atual"
   ]
  },
  {
   "cell_type": "code",
   "execution_count": 63,
   "metadata": {},
   "outputs": [
    {
     "name": "stdout",
     "output_type": "stream",
     "text": [
      "C:\\Users\\Administrador\\Desktop\\repo\\raspatribunais_tjgo\n"
     ]
    }
   ],
   "source": [
    "print(os.getcwd())"
   ]
  },
  {
   "cell_type": "code",
   "execution_count": null,
   "metadata": {},
   "outputs": [],
   "source": []
  },
  {
   "cell_type": "code",
   "execution_count": 64,
   "metadata": {},
   "outputs": [],
   "source": [
    "# Indica os locais do Chrome e do Chromedriver"
   ]
  },
  {
   "cell_type": "code",
   "execution_count": null,
   "metadata": {},
   "outputs": [],
   "source": [
    "# Estão são os locais de exemplo em um computador da ESPM com Windows - cada computador varia o endereço"
   ]
  },
  {
   "cell_type": "code",
   "execution_count": 65,
   "metadata": {},
   "outputs": [],
   "source": [
    "CHROME = r'C:\\Program Files (x86)\\Google\\Chrome\\Application\\chrome.exe'\n",
    "CHROMEDRIVER = r'C:\\Users\\Administrador\\Desktop\\chromedriver_win32\\chromedriver'"
   ]
  },
  {
   "cell_type": "code",
   "execution_count": null,
   "metadata": {},
   "outputs": [],
   "source": []
  },
  {
   "cell_type": "code",
   "execution_count": 66,
   "metadata": {},
   "outputs": [],
   "source": [
    "# Definir opções do Chrome \n",
    "chrome_options = webdriver.chrome.options.Options()\n",
    "chrome_options.add_argument('--window-size=1920,1080')\n",
    "chrome_options.binary_location = CHROME\n",
    "\n",
    "# Esta opção deixa o navegador fora da tela, ao fundo\n",
    "# chrome_options.add_argument('--headless')"
   ]
  },
  {
   "cell_type": "code",
   "execution_count": null,
   "metadata": {},
   "outputs": [],
   "source": []
  },
  {
   "cell_type": "code",
   "execution_count": 67,
   "metadata": {},
   "outputs": [],
   "source": [
    "# Indica a url principal para buscas"
   ]
  },
  {
   "cell_type": "code",
   "execution_count": 68,
   "metadata": {},
   "outputs": [],
   "source": [
    "link = 'https://pjd.tjgo.jus.br/BuscaProcessoPublica?PaginaAtual=2&Passo=7'"
   ]
  },
  {
   "cell_type": "code",
   "execution_count": null,
   "metadata": {},
   "outputs": [],
   "source": []
  },
  {
   "cell_type": "code",
   "execution_count": 69,
   "metadata": {},
   "outputs": [],
   "source": [
    "# Exemplo de um nome para busca"
   ]
  },
  {
   "cell_type": "code",
   "execution_count": 70,
   "metadata": {},
   "outputs": [],
   "source": [
    "nome = \"MARCONI FERREIRA PERILLO JUNIOR\""
   ]
  },
  {
   "cell_type": "code",
   "execution_count": null,
   "metadata": {},
   "outputs": [],
   "source": []
  },
  {
   "cell_type": "code",
   "execution_count": 71,
   "metadata": {},
   "outputs": [],
   "source": [
    "# Cria a variável que vai abrigar o webdriver e abre o Chrome remoto"
   ]
  },
  {
   "cell_type": "code",
   "execution_count": 72,
   "metadata": {},
   "outputs": [],
   "source": [
    "browser = webdriver.Chrome(CHROMEDRIVER, options = chrome_options)"
   ]
  },
  {
   "cell_type": "code",
   "execution_count": null,
   "metadata": {},
   "outputs": [],
   "source": []
  },
  {
   "cell_type": "code",
   "execution_count": 73,
   "metadata": {},
   "outputs": [],
   "source": [
    "# Acessa o link"
   ]
  },
  {
   "cell_type": "code",
   "execution_count": 74,
   "metadata": {},
   "outputs": [],
   "source": [
    "browser.get(link)"
   ]
  },
  {
   "cell_type": "code",
   "execution_count": null,
   "metadata": {},
   "outputs": [],
   "source": []
  },
  {
   "cell_type": "code",
   "execution_count": null,
   "metadata": {},
   "outputs": [],
   "source": [
    "# Preenche o campo do nome da parte"
   ]
  },
  {
   "cell_type": "code",
   "execution_count": null,
   "metadata": {},
   "outputs": [],
   "source": [
    "# Para isso é procurado o XPath"
   ]
  },
  {
   "cell_type": "code",
   "execution_count": null,
   "metadata": {},
   "outputs": [],
   "source": [
    "# XPath é definido como caminho XML (Extensible Markup Language). \n",
    "# É uma sintaxe ou linguagem para encontrar qualquer elemento na página da Web usando a expressão do caminho XML. \n",
    "# XPath também é usado para encontrar a localização de qualquer elemento em uma página da Web usando a estrutura HTML DOM (O DOM representa um documento com uma árvore lógica)\n",
    "# Use o Inspecionar (botão direito do mouse ou Ctrl+Shift+I)\n",
    "# Mais sobre XPATH: https://pt.stackoverflow.com/questions/286409/o-que-%C3%A9-e-para-qu%C3%AA-serve-o-xpath-fornecido-nas-ferramentas-de-desenvolvedor-do-n"
   ]
  },
  {
   "cell_type": "code",
   "execution_count": 15,
   "metadata": {},
   "outputs": [],
   "source": [
    "browser.find_element_by_xpath(\"//*[@id='NomeParte']\").send_keys(nome)"
   ]
  },
  {
   "cell_type": "code",
   "execution_count": null,
   "metadata": {},
   "outputs": [],
   "source": []
  },
  {
   "cell_type": "code",
   "execution_count": 16,
   "metadata": {},
   "outputs": [],
   "source": [
    "# Clica o botão de busca\n",
    "# Em momentos de tráfego intenso às vezes este comando precisa ser executado uma segunda vez para retornar resultado na tela"
   ]
  },
  {
   "cell_type": "code",
   "execution_count": 18,
   "metadata": {},
   "outputs": [],
   "source": [
    "browser.find_element_by_xpath(\"//*[@id='btnBuscarProcPublico']\").click()"
   ]
  },
  {
   "cell_type": "code",
   "execution_count": null,
   "metadata": {},
   "outputs": [],
   "source": []
  },
  {
   "cell_type": "code",
   "execution_count": null,
   "metadata": {},
   "outputs": [],
   "source": [
    "# O que este site retorna é uma tabela bem definida com colunas e linhas\n",
    "# O pandas tem um comando que lê e transforma estas tabelas de HTML em dataframes\n",
    "# Basta indicar o local exato da tabela, que também pode ser encontrado com o Inspecionar"
   ]
  },
  {
   "cell_type": "code",
   "execution_count": 21,
   "metadata": {},
   "outputs": [],
   "source": [
    "df = pd.read_html(browser.find_element_by_id('divTabela').get_attribute('outerHTML'))"
   ]
  },
  {
   "cell_type": "code",
   "execution_count": 22,
   "metadata": {},
   "outputs": [],
   "source": [
    "# Neste caso temos que depois indicar que apenas o primeiro item do dataframe (0) deverá ser usado"
   ]
  },
  {
   "cell_type": "code",
   "execution_count": 23,
   "metadata": {},
   "outputs": [],
   "source": [
    "df1 = pd.DataFrame(df[0])"
   ]
  },
  {
   "cell_type": "code",
   "execution_count": 24,
   "metadata": {},
   "outputs": [
    {
     "data": {
      "text/html": [
       "<div>\n",
       "<style scoped>\n",
       "    .dataframe tbody tr th:only-of-type {\n",
       "        vertical-align: middle;\n",
       "    }\n",
       "\n",
       "    .dataframe tbody tr th {\n",
       "        vertical-align: top;\n",
       "    }\n",
       "\n",
       "    .dataframe thead th {\n",
       "        text-align: right;\n",
       "    }\n",
       "</style>\n",
       "<table border=\"1\" class=\"dataframe\">\n",
       "  <thead>\n",
       "    <tr style=\"text-align: right;\">\n",
       "      <th></th>\n",
       "      <th>Mensagens</th>\n",
       "      <th>Número Processo</th>\n",
       "      <th>Polo Ativo</th>\n",
       "      <th>Polo Passivo</th>\n",
       "      <th>Data da Distribuição</th>\n",
       "    </tr>\n",
       "  </thead>\n",
       "  <tbody>\n",
       "    <tr>\n",
       "      <th>0</th>\n",
       "      <td>NaN</td>\n",
       "      <td>5196250.77</td>\n",
       "      <td>MARCONI FERREIRA PERILLO JUNIOR</td>\n",
       "      <td>JUNIO ALVES ARAÚJO (MAJOR ARAÚJO)</td>\n",
       "      <td>15/08/2016</td>\n",
       "    </tr>\n",
       "    <tr>\n",
       "      <th>1</th>\n",
       "      <td>NaN</td>\n",
       "      <td>5274034.33</td>\n",
       "      <td>MARCONI FERREIRA PERILLO JUNIOR</td>\n",
       "      <td>QUID NOVI CONSULTORIA LTDA - ME</td>\n",
       "      <td>20/10/2016</td>\n",
       "    </tr>\n",
       "    <tr>\n",
       "      <th>2</th>\n",
       "      <td>NaN</td>\n",
       "      <td>5093864.32</td>\n",
       "      <td>JAYME EDUARDO RINCON</td>\n",
       "      <td>DIRETÓRIO MUNICIPAL DO PMDB DE GUAPÓ</td>\n",
       "      <td>28/03/2017</td>\n",
       "    </tr>\n",
       "    <tr>\n",
       "      <th>3</th>\n",
       "      <td>NaN</td>\n",
       "      <td>5093973.46</td>\n",
       "      <td>MARCONI FERREIRA PERILLO JUNIOR</td>\n",
       "      <td>DIRETÓRIO MUNICIPAL DO PMDB DE GUAPÓ</td>\n",
       "      <td>28/03/2017</td>\n",
       "    </tr>\n",
       "    <tr>\n",
       "      <th>4</th>\n",
       "      <td>NaN</td>\n",
       "      <td>5192692.63</td>\n",
       "      <td>KOWALSKY DO CARMO COSTA RIBEIRO</td>\n",
       "      <td>MARCONI FERREIRA PERILLO JUNIOR</td>\n",
       "      <td>23/06/2017</td>\n",
       "    </tr>\n",
       "    <tr>\n",
       "      <th>5</th>\n",
       "      <td>NaN</td>\n",
       "      <td>5207679.70</td>\n",
       "      <td>MARCONI FERREIRA PERILLO JUNIOR</td>\n",
       "      <td>DIRETÓRIO MUNICIPAL DO PMDB DE GUAPÓ</td>\n",
       "      <td>04/07/2017</td>\n",
       "    </tr>\n",
       "    <tr>\n",
       "      <th>6</th>\n",
       "      <td>NaN</td>\n",
       "      <td>5215174.50</td>\n",
       "      <td>KOWALSKY DO CARMO COSTA RIBEIRO</td>\n",
       "      <td>MARCONI FERREIRA PERILLO JUNIOR</td>\n",
       "      <td>10/07/2017</td>\n",
       "    </tr>\n",
       "    <tr>\n",
       "      <th>7</th>\n",
       "      <td>NaN</td>\n",
       "      <td>5339814.80</td>\n",
       "      <td>RONALDO RAMOS CAIADO</td>\n",
       "      <td>MARCONI FERREIRA PERILLO JUNIOR</td>\n",
       "      <td>21/09/2017</td>\n",
       "    </tr>\n",
       "    <tr>\n",
       "      <th>8</th>\n",
       "      <td>NaN</td>\n",
       "      <td>5341184.94</td>\n",
       "      <td>MARCONI FERREIRA PERILLO JUNIOR</td>\n",
       "      <td>CLOVES REGES MAIA</td>\n",
       "      <td>22/09/2017</td>\n",
       "    </tr>\n",
       "    <tr>\n",
       "      <th>9</th>\n",
       "      <td>NaN</td>\n",
       "      <td>5377660.34</td>\n",
       "      <td>MARCONI FERREIRA PERILLO JUNIOR</td>\n",
       "      <td>DIRETORIO MUNICIPAL DO PMDB DE GUAPÓ</td>\n",
       "      <td>16/10/2017</td>\n",
       "    </tr>\n",
       "    <tr>\n",
       "      <th>10</th>\n",
       "      <td>NaN</td>\n",
       "      <td>5379591.72</td>\n",
       "      <td>MARCONI FERREIRA PERILLO JUNIOR</td>\n",
       "      <td>WALDIR SOARES DE OLIVEIRA</td>\n",
       "      <td>17/10/2017</td>\n",
       "    </tr>\n",
       "    <tr>\n",
       "      <th>11</th>\n",
       "      <td>NaN</td>\n",
       "      <td>5428542.97</td>\n",
       "      <td>MARCONI FERREIRA PERILLO JÚNIOR</td>\n",
       "      <td>JUNIO ALVES DE ARAÚJO</td>\n",
       "      <td>10/11/2017</td>\n",
       "    </tr>\n",
       "    <tr>\n",
       "      <th>12</th>\n",
       "      <td>NaN</td>\n",
       "      <td>5455594.68</td>\n",
       "      <td>MARCONI FERREIRA PERILLO JUNIOR</td>\n",
       "      <td>DIRETORIO MUNICIPAL DO PMDB DE GUAPÓ</td>\n",
       "      <td>28/11/2017</td>\n",
       "    </tr>\n",
       "    <tr>\n",
       "      <th>13</th>\n",
       "      <td>NaN</td>\n",
       "      <td>5037383.15</td>\n",
       "      <td>MARCONI FERREIRA PERILLO JUNIOR</td>\n",
       "      <td>JUNIOR ALVES DE ARAÚJO</td>\n",
       "      <td>30/01/2018</td>\n",
       "    </tr>\n",
       "    <tr>\n",
       "      <th>14</th>\n",
       "      <td>NaN</td>\n",
       "      <td>5376723.87</td>\n",
       "      <td>MARCONI FERREIRA PERILLO JUNIOR</td>\n",
       "      <td>JORGE REIS DA COSTA</td>\n",
       "      <td>14/08/2018</td>\n",
       "    </tr>\n",
       "  </tbody>\n",
       "</table>\n",
       "</div>"
      ],
      "text/plain": [
       "    Mensagens  Número Processo                       Polo Ativo  \\\n",
       "0         NaN       5196250.77  MARCONI FERREIRA PERILLO JUNIOR   \n",
       "1         NaN       5274034.33  MARCONI FERREIRA PERILLO JUNIOR   \n",
       "2         NaN       5093864.32             JAYME EDUARDO RINCON   \n",
       "3         NaN       5093973.46  MARCONI FERREIRA PERILLO JUNIOR   \n",
       "4         NaN       5192692.63  KOWALSKY DO CARMO COSTA RIBEIRO   \n",
       "5         NaN       5207679.70  MARCONI FERREIRA PERILLO JUNIOR   \n",
       "6         NaN       5215174.50  KOWALSKY DO CARMO COSTA RIBEIRO   \n",
       "7         NaN       5339814.80             RONALDO RAMOS CAIADO   \n",
       "8         NaN       5341184.94  MARCONI FERREIRA PERILLO JUNIOR   \n",
       "9         NaN       5377660.34  MARCONI FERREIRA PERILLO JUNIOR   \n",
       "10        NaN       5379591.72  MARCONI FERREIRA PERILLO JUNIOR   \n",
       "11        NaN       5428542.97  MARCONI FERREIRA PERILLO JÚNIOR   \n",
       "12        NaN       5455594.68  MARCONI FERREIRA PERILLO JUNIOR   \n",
       "13        NaN       5037383.15  MARCONI FERREIRA PERILLO JUNIOR   \n",
       "14        NaN       5376723.87  MARCONI FERREIRA PERILLO JUNIOR   \n",
       "\n",
       "                            Polo Passivo Data da Distribuição  \n",
       "0      JUNIO ALVES ARAÚJO (MAJOR ARAÚJO)           15/08/2016  \n",
       "1        QUID NOVI CONSULTORIA LTDA - ME           20/10/2016  \n",
       "2   DIRETÓRIO MUNICIPAL DO PMDB DE GUAPÓ           28/03/2017  \n",
       "3   DIRETÓRIO MUNICIPAL DO PMDB DE GUAPÓ           28/03/2017  \n",
       "4        MARCONI FERREIRA PERILLO JUNIOR           23/06/2017  \n",
       "5   DIRETÓRIO MUNICIPAL DO PMDB DE GUAPÓ           04/07/2017  \n",
       "6        MARCONI FERREIRA PERILLO JUNIOR           10/07/2017  \n",
       "7        MARCONI FERREIRA PERILLO JUNIOR           21/09/2017  \n",
       "8                      CLOVES REGES MAIA           22/09/2017  \n",
       "9   DIRETORIO MUNICIPAL DO PMDB DE GUAPÓ           16/10/2017  \n",
       "10             WALDIR SOARES DE OLIVEIRA           17/10/2017  \n",
       "11                 JUNIO ALVES DE ARAÚJO           10/11/2017  \n",
       "12  DIRETORIO MUNICIPAL DO PMDB DE GUAPÓ           28/11/2017  \n",
       "13                JUNIOR ALVES DE ARAÚJO           30/01/2018  \n",
       "14                   JORGE REIS DA COSTA           14/08/2018  "
      ]
     },
     "execution_count": 24,
     "metadata": {},
     "output_type": "execute_result"
    }
   ],
   "source": [
    "df1"
   ]
  },
  {
   "cell_type": "code",
   "execution_count": null,
   "metadata": {},
   "outputs": [],
   "source": []
  },
  {
   "cell_type": "code",
   "execution_count": null,
   "metadata": {},
   "outputs": [],
   "source": [
    "# Exemplo de procura na página pelo botão '›'"
   ]
  },
  {
   "cell_type": "code",
   "execution_count": 25,
   "metadata": {},
   "outputs": [
    {
     "data": {
      "text/plain": [
       "'›'"
      ]
     },
     "execution_count": 25,
     "metadata": {},
     "output_type": "execute_result"
    }
   ],
   "source": [
    "next_page = browser.find_element_by_xpath(\"//*[@id='divTabela']/div[2]/div[2]/div[4]/div[2]/ul/li[8]/a\").text\n",
    "next_page"
   ]
  },
  {
   "cell_type": "code",
   "execution_count": null,
   "metadata": {},
   "outputs": [],
   "source": []
  },
  {
   "cell_type": "code",
   "execution_count": 26,
   "metadata": {},
   "outputs": [],
   "source": [
    "# Captura a frase que mostra a paginação dos resultados"
   ]
  },
  {
   "cell_type": "code",
   "execution_count": 27,
   "metadata": {},
   "outputs": [
    {
     "data": {
      "text/plain": [
       "'Exibindo 1 até 15 de 116 linhas'"
      ]
     },
     "execution_count": 27,
     "metadata": {},
     "output_type": "execute_result"
    }
   ],
   "source": [
    "frase_pag = browser.find_element_by_xpath(\"//*[@id='divTabela']/div[2]/div[2]/div[4]/div[1]/span[1]\").text\n",
    "frase_pag"
   ]
  },
  {
   "cell_type": "code",
   "execution_count": 28,
   "metadata": {},
   "outputs": [],
   "source": [
    "# Separa os resultados em uma lista"
   ]
  },
  {
   "cell_type": "code",
   "execution_count": 29,
   "metadata": {},
   "outputs": [
    {
     "data": {
      "text/plain": [
       "['Exibindo', '1', 'até', '15', 'de', '116', 'linhas']"
      ]
     },
     "execution_count": 29,
     "metadata": {},
     "output_type": "execute_result"
    }
   ],
   "source": [
    "separa = frase_pag.split()\n",
    "separa"
   ]
  },
  {
   "cell_type": "code",
   "execution_count": 30,
   "metadata": {},
   "outputs": [],
   "source": [
    "# No caso o número total de processos sempre será o último número na frase, ou o penúltimo item da lista"
   ]
  },
  {
   "cell_type": "code",
   "execution_count": 31,
   "metadata": {},
   "outputs": [
    {
     "data": {
      "text/plain": [
       "116"
      ]
     },
     "execution_count": 31,
     "metadata": {},
     "output_type": "execute_result"
    }
   ],
   "source": [
    "num = int(separa[-2])\n",
    "num"
   ]
  },
  {
   "cell_type": "code",
   "execution_count": 32,
   "metadata": {},
   "outputs": [],
   "source": [
    "# Cada página de resultado tem 15 linhas\n",
    "# Então com uma divisão arredondada eu posso descobrir o número de páginas de resultados"
   ]
  },
  {
   "cell_type": "code",
   "execution_count": 33,
   "metadata": {},
   "outputs": [
    {
     "data": {
      "text/plain": [
       "8"
      ]
     },
     "execution_count": 33,
     "metadata": {},
     "output_type": "execute_result"
    }
   ],
   "source": [
    "pags = round(num / 15)\n",
    "pags"
   ]
  },
  {
   "cell_type": "code",
   "execution_count": null,
   "metadata": {},
   "outputs": [],
   "source": []
  },
  {
   "cell_type": "code",
   "execution_count": null,
   "metadata": {},
   "outputs": [],
   "source": [
    "# Iteração para capturar todas páginas, a partir do número de páginas"
   ]
  },
  {
   "cell_type": "code",
   "execution_count": 34,
   "metadata": {},
   "outputs": [
    {
     "name": "stdout",
     "output_type": "stream",
     "text": [
      "1\n",
      "2\n",
      "3\n",
      "4\n",
      "5\n",
      "6\n",
      "7\n",
      "8\n"
     ]
    }
   ],
   "source": [
    "for item in range(1, pags+1):\n",
    "    print(item)\n",
    "    # Primeira vezes\n",
    "    if item == 1:\n",
    "        df_inicial = pd.read_html(browser.find_element_by_id('divTabela').get_attribute('outerHTML'))\n",
    "        df_final = pd.DataFrame(df_inicial[0])\n",
    "    # Seguintes\n",
    "    else:\n",
    "        # Preventivamente faz uma pausa \n",
    "        time.sleep(6)\n",
    "        browser.find_element_by_xpath(\"//*[@id='divTabela']/div[2]/div[2]/div[4]/div[2]/ul/li[8]/a\").click()\n",
    "        time.sleep(6)\n",
    "        df_inicial = pd.read_html(browser.find_element_by_id('divTabela').get_attribute('outerHTML'))\n",
    "        df_final_0 = pd.DataFrame(df_inicial[0])\n",
    "        # Adiciona ao dataframe já existente\n",
    "        df_final = pd.concat([df_final, df_final_0])\n",
    "    "
   ]
  },
  {
   "cell_type": "code",
   "execution_count": 35,
   "metadata": {},
   "outputs": [
    {
     "name": "stdout",
     "output_type": "stream",
     "text": [
      "<class 'pandas.core.frame.DataFrame'>\n",
      "Int64Index: 116 entries, 0 to 10\n",
      "Data columns (total 5 columns):\n",
      "Mensagens               0 non-null float64\n",
      "Número Processo         116 non-null float64\n",
      "Polo Ativo              116 non-null object\n",
      "Polo Passivo            116 non-null object\n",
      "Data da Distribuição    116 non-null object\n",
      "dtypes: float64(2), object(3)\n",
      "memory usage: 5.4+ KB\n"
     ]
    }
   ],
   "source": [
    "df_final.info()"
   ]
  },
  {
   "cell_type": "code",
   "execution_count": 36,
   "metadata": {},
   "outputs": [
    {
     "data": {
      "text/html": [
       "<div>\n",
       "<style scoped>\n",
       "    .dataframe tbody tr th:only-of-type {\n",
       "        vertical-align: middle;\n",
       "    }\n",
       "\n",
       "    .dataframe tbody tr th {\n",
       "        vertical-align: top;\n",
       "    }\n",
       "\n",
       "    .dataframe thead th {\n",
       "        text-align: right;\n",
       "    }\n",
       "</style>\n",
       "<table border=\"1\" class=\"dataframe\">\n",
       "  <thead>\n",
       "    <tr style=\"text-align: right;\">\n",
       "      <th></th>\n",
       "      <th>Mensagens</th>\n",
       "      <th>Número Processo</th>\n",
       "      <th>Polo Ativo</th>\n",
       "      <th>Polo Passivo</th>\n",
       "      <th>Data da Distribuição</th>\n",
       "    </tr>\n",
       "  </thead>\n",
       "  <tbody>\n",
       "    <tr>\n",
       "      <th>6</th>\n",
       "      <td>NaN</td>\n",
       "      <td>5409187.33</td>\n",
       "      <td>Pirocenter Distribuidora De Fogos Artificiais</td>\n",
       "      <td>Marconi Ferreira Perillo Junior</td>\n",
       "      <td>03/07/2019</td>\n",
       "    </tr>\n",
       "    <tr>\n",
       "      <th>7</th>\n",
       "      <td>NaN</td>\n",
       "      <td>5461687.35</td>\n",
       "      <td>MARCONI FERREIRA PERILLO JUNIOR</td>\n",
       "      <td>Ministério Público Do Estado De Goiás</td>\n",
       "      <td>02/08/2019</td>\n",
       "    </tr>\n",
       "    <tr>\n",
       "      <th>8</th>\n",
       "      <td>NaN</td>\n",
       "      <td>5520704.43</td>\n",
       "      <td>MARCONI FERREIRA PERILLO JUNIOR</td>\n",
       "      <td>JUIZA DE DIREITO DA 4ª VARA DA FAZENDA PÚBLICA...</td>\n",
       "      <td>03/09/2019</td>\n",
       "    </tr>\n",
       "    <tr>\n",
       "      <th>9</th>\n",
       "      <td>NaN</td>\n",
       "      <td>5521033.55</td>\n",
       "      <td>MARCONI FERREIRA PERILLO JUNIOR</td>\n",
       "      <td>JUIZA DE DIREITO DA 4ª VARA DA FAZENDA PÚBLICA...</td>\n",
       "      <td>03/09/2019</td>\n",
       "    </tr>\n",
       "    <tr>\n",
       "      <th>10</th>\n",
       "      <td>NaN</td>\n",
       "      <td>5521353.80</td>\n",
       "      <td>MARCONI FERREIRA PERILLO JUNIOR</td>\n",
       "      <td>JUIZA DE DIREITO DA 4ª VARA DA FAZENDA PÚBLICA...</td>\n",
       "      <td>03/09/2019</td>\n",
       "    </tr>\n",
       "  </tbody>\n",
       "</table>\n",
       "</div>"
      ],
      "text/plain": [
       "    Mensagens  Número Processo                                     Polo Ativo  \\\n",
       "6         NaN       5409187.33  Pirocenter Distribuidora De Fogos Artificiais   \n",
       "7         NaN       5461687.35                MARCONI FERREIRA PERILLO JUNIOR   \n",
       "8         NaN       5520704.43                MARCONI FERREIRA PERILLO JUNIOR   \n",
       "9         NaN       5521033.55                MARCONI FERREIRA PERILLO JUNIOR   \n",
       "10        NaN       5521353.80                MARCONI FERREIRA PERILLO JUNIOR   \n",
       "\n",
       "                                         Polo Passivo Data da Distribuição  \n",
       "6                     Marconi Ferreira Perillo Junior           03/07/2019  \n",
       "7               Ministério Público Do Estado De Goiás           02/08/2019  \n",
       "8   JUIZA DE DIREITO DA 4ª VARA DA FAZENDA PÚBLICA...           03/09/2019  \n",
       "9   JUIZA DE DIREITO DA 4ª VARA DA FAZENDA PÚBLICA...           03/09/2019  \n",
       "10  JUIZA DE DIREITO DA 4ª VARA DA FAZENDA PÚBLICA...           03/09/2019  "
      ]
     },
     "execution_count": 36,
     "metadata": {},
     "output_type": "execute_result"
    }
   ],
   "source": [
    "df_final.tail()"
   ]
  },
  {
   "cell_type": "code",
   "execution_count": null,
   "metadata": {},
   "outputs": [],
   "source": []
  },
  {
   "cell_type": "code",
   "execution_count": 40,
   "metadata": {},
   "outputs": [],
   "source": [
    "# Fecha o driver\n",
    "browser.quit()"
   ]
  },
  {
   "cell_type": "code",
   "execution_count": null,
   "metadata": {},
   "outputs": [],
   "source": []
  },
  {
   "cell_type": "code",
   "execution_count": null,
   "metadata": {},
   "outputs": [],
   "source": [
    "# Rotina de limpeza para incluir um 0 sempre que o processo terminar um número apenas após o \".\""
   ]
  },
  {
   "cell_type": "code",
   "execution_count": 37,
   "metadata": {},
   "outputs": [],
   "source": [
    "def limpeza1(linha):\n",
    "    documento = str(linha[\"Número Processo\"])\n",
    "    separa = documento.split(\".\")\n",
    "    if len(separa[-1]) == 1:\n",
    "        novo = \"0\" + separa[-1]\n",
    "        retorna = separa[0] + \".\" + novo\n",
    "        return retorna\n",
    "    else:\n",
    "        return documento\n",
    "    \n",
    "df_final[\"Número Processo\"] = df_final.apply(limpeza1, axis=1)"
   ]
  },
  {
   "cell_type": "code",
   "execution_count": null,
   "metadata": {},
   "outputs": [],
   "source": []
  },
  {
   "cell_type": "code",
   "execution_count": 38,
   "metadata": {},
   "outputs": [
    {
     "name": "stdout",
     "output_type": "stream",
     "text": [
      "<class 'pandas.core.frame.DataFrame'>\n",
      "Int64Index: 116 entries, 0 to 10\n",
      "Data columns (total 5 columns):\n",
      "Mensagens               0 non-null float64\n",
      "Número Processo         116 non-null object\n",
      "Polo Ativo              116 non-null object\n",
      "Polo Passivo            116 non-null object\n",
      "Data da Distribuição    116 non-null object\n",
      "dtypes: float64(1), object(4)\n",
      "memory usage: 5.4+ KB\n"
     ]
    }
   ],
   "source": [
    "df_final.info()"
   ]
  },
  {
   "cell_type": "code",
   "execution_count": 39,
   "metadata": {},
   "outputs": [
    {
     "data": {
      "text/plain": [
       "0     5196250.77\n",
       "1     5274034.33\n",
       "2     5093864.32\n",
       "3     5093973.46\n",
       "4     5192692.63\n",
       "         ...    \n",
       "6     5409187.33\n",
       "7     5461687.35\n",
       "8     5520704.43\n",
       "9     5521033.55\n",
       "10    5521353.08\n",
       "Name: Número Processo, Length: 116, dtype: object"
      ]
     },
     "execution_count": 39,
     "metadata": {},
     "output_type": "execute_result"
    }
   ],
   "source": [
    "df_final['Número Processo']"
   ]
  },
  {
   "cell_type": "code",
   "execution_count": null,
   "metadata": {},
   "outputs": [],
   "source": []
  },
  {
   "cell_type": "code",
   "execution_count": 144,
   "metadata": {},
   "outputs": [],
   "source": [
    "# Fase 2\n",
    "# Entrar em cada página de processo a partir do número"
   ]
  },
  {
   "cell_type": "code",
   "execution_count": null,
   "metadata": {},
   "outputs": [],
   "source": []
  },
  {
   "cell_type": "code",
   "execution_count": null,
   "metadata": {},
   "outputs": [],
   "source": [
    "# Cria uma lista vazia para acumular os resultados"
   ]
  },
  {
   "cell_type": "code",
   "execution_count": 56,
   "metadata": {},
   "outputs": [],
   "source": [
    "processos = []"
   ]
  },
  {
   "cell_type": "code",
   "execution_count": null,
   "metadata": {},
   "outputs": [],
   "source": [
    "# Abre o Chrome e acessa o link principal de novo"
   ]
  },
  {
   "cell_type": "code",
   "execution_count": 57,
   "metadata": {},
   "outputs": [],
   "source": [
    "browser = webdriver.Chrome(CHROMEDRIVER, options = chrome_options)\n",
    "\n",
    "browser.get(link)"
   ]
  },
  {
   "cell_type": "code",
   "execution_count": null,
   "metadata": {},
   "outputs": [],
   "source": []
  },
  {
   "cell_type": "code",
   "execution_count": null,
   "metadata": {},
   "outputs": [],
   "source": [
    "# Iteração no dataframe criado acima"
   ]
  },
  {
   "cell_type": "code",
   "execution_count": 58,
   "metadata": {},
   "outputs": [
    {
     "name": "stdout",
     "output_type": "stream",
     "text": [
      "5196250.77\n",
      "5274034.33\n",
      "5093864.32\n",
      "5093973.46\n",
      "5192692.63\n",
      "5207679.07\n",
      "5215174.05\n",
      "5339814.08\n",
      "Processo não encontrado:  5339814.08\n",
      "5341184.94\n",
      "5377660.34\n",
      "5379591.72\n",
      "5428542.97\n",
      "5455594.68\n",
      "5037383.15\n",
      "5376723.87\n",
      "5426947.29\n",
      "5473741.11\n",
      "5542376.44\n",
      "5050049.14\n",
      "5070484.09\n",
      "5085283.57\n",
      "5107881.05\n",
      "5130461.85\n",
      "5226949.05\n",
      "5244436.29\n",
      "5305805.24\n",
      "5320140.07\n",
      "5330507.09\n",
      "Processo não encontrado:  5330507.09\n",
      "5462744.88\n",
      "5477909.78\n",
      "5496705.61\n",
      "5522471.75\n",
      "288112.79\n",
      "175769.09\n",
      "109675.64\n",
      "Processo com segredo de Justiça:  109675.64\n",
      "129120.68\n",
      "214873.09\n",
      "Processo não encontrado:  214873.09\n",
      "214893.81\n",
      "310974.92\n",
      "7063744.16\n",
      "117240.11\n",
      "162128.65\n",
      "162133.87\n",
      "163788.94\n",
      "184207.38\n",
      "197360.29\n",
      "204511.58\n",
      "275159.63\n",
      "297110.97\n",
      "371487.55\n",
      "381188.04\n",
      "Processo não encontrado:  381188.04\n",
      "406263.05\n",
      "Processo não encontrado:  406263.05\n",
      "9838.31\n",
      "86259.62\n",
      "157391.82\n",
      "174247.24\n",
      "174248.09\n",
      "230381.71\n",
      "Processo possivelmente duplicado:  230381.71\n",
      "249133.91\n",
      "301894.02\n",
      "305332.58\n",
      "67658.71\n",
      "255926.12\n",
      "302467.06\n",
      "308571.14\n",
      "439854.79\n",
      "452026.14\n",
      "454027.11\n",
      "454033.18\n",
      "47389.74\n",
      "119421.77\n",
      "119435.61\n",
      "330709.38\n",
      "332612.11\n",
      "379848.56\n",
      "379852.93\n",
      "379857.18\n",
      "379859.85\n",
      "385943.05\n",
      "420808.54\n",
      "135328.58\n",
      "135332.95\n",
      "215221.98\n",
      "231010.04\n",
      "Processo não encontrado:  231010.04\n",
      "5235093.14\n",
      "322534.59\n",
      "5250482.39\n",
      "5274012.72\n",
      "5322797.65\n",
      "5322820.11\n",
      "5166523.39\n",
      "5207766.06\n",
      "Processo não encontrado:  5207766.06\n",
      "5207885.21\n",
      "5207984.88\n",
      "5246679.14\n",
      "5261432.73\n",
      "5341131.16\n",
      "5362061.55\n",
      "5377802.38\n",
      "5412470.35\n",
      "82528.57\n",
      "5134264.54\n",
      "5134289.67\n",
      "5373246.56\n",
      "5455799.63\n",
      "5605654.19\n",
      "5002191.01\n",
      "Processo não encontrado:  5002191.01\n",
      "5104871.05\n",
      "Processo não encontrado:  5104871.05\n",
      "5185551.22\n",
      "5193261.52\n",
      "5299499.95\n",
      "5409187.33\n",
      "5461687.35\n",
      "5520704.43\n",
      "5521033.55\n",
      "5521353.08\n"
     ]
    }
   ],
   "source": [
    "for num, row in df_final.iterrows():\n",
    "    # Preenche variaveis com alguns dados do dataframe\n",
    "    processo = str(row['Número Processo'])\n",
    "    polo_ativo = row['Polo Ativo']\n",
    "    polo_passivo = row['Polo Passivo']\n",
    "    \n",
    "    print(processo)\n",
    "\n",
    "    # Limpa o campo de número de processo a cada busca\n",
    "    browser.find_element_by_xpath(\"//*[@id='ProcessoNumero']\").clear()\n",
    "\n",
    "    # Preenche o campo do número do processo\n",
    "    browser.find_element_by_xpath(\"//*[@id='ProcessoNumero']\").send_keys(processo)\n",
    "\n",
    "    # Um ponto de problemas muito comum em raspagens repetitivas é a tela demorar para ser carregada\n",
    "    # Por isso WebDriverWait e o until impõe uma espera de até 60 segundos para o botão estar carregado\n",
    "    # Este tempo poderá ter que ser maior dependendo do dia e hora de acesso\n",
    "    WebDriverWait(browser, 60).until(EC.element_to_be_clickable((By.XPATH, \"//*[@id='btnBuscarProcPublico']\"))).click()\n",
    "    \n",
    "    # Também dependendo da hora e dia o botão precisa ser pressionado duas vezes\n",
    "    #browser.find_element_by_xpath(\"//*[@id='btnBuscarProcPublico']\").click()\n",
    "    \n",
    "    # Espera preventiva para site não tornar acesso difícil\n",
    "    time.sleep(6)\n",
    "\n",
    "    # Procura mensagem na tela que indica que processo não foi encontrado\n",
    "    try: \n",
    "        encontra = browser.find_element_by_xpath(\"//*[@id='mensagem-conteudo']\").text.strip()\n",
    "    except NoSuchElementException:\n",
    "        encontra = \"sem_essa_informacao\"\n",
    "    \n",
    "    # Procura mensagem na tela que indica que processo está em segredo de justiça\n",
    "    try: \n",
    "        p_segredo = browser.find_element_by_xpath(\"//*[@id='tituloBoxMaiorCapaProcesso']\").text.strip()\n",
    "    except NoSuchElementException:\n",
    "        p_segredo = \"sem_essa_informacao\"\n",
    "\n",
    "    # Procura mensagem na tela que indica que processo tem número duplicado\n",
    "    try: \n",
    "        duplo = browser.find_element_by_xpath(\"//*[@id='divTabela']/div[2]/div[2]/div[4]/div[1]/span[1]\").text.strip()\n",
    "        duplo = duplo[0:9]\n",
    "    except NoSuchElementException:\n",
    "        duplo = \"sem_essa_informacao\"\n",
    "\n",
    "    \n",
    "    # Verifica se condições acima surgiram\n",
    "    if encontra != \"x\\nNenhum Processo foi localizado para os parâmetros informados.\" and p_segredo != \"Informações do Processo em Segredo de Justiça\" and duplo != 'Exibindo ':\n",
    "        \n",
    "        # Testa se cada informação do processo está disponível\n",
    "        \n",
    "        try:\n",
    "            area = browser.find_element_by_xpath(\"/html/body/div[3]/div/section/div/div[2]/div/div[3]/div[2]/div/div[2]/div[2]/div[1]/div/div[2]/dl/dd[1]\").text\n",
    "        except NoSuchElementException:\n",
    "            area = \"sem_essa_informacao\"\n",
    "    \n",
    "        try:\n",
    "            serventia = browser.find_element_by_xpath(\"/html/body/div[3]/div/section/div/div[2]/div/div[3]/div[2]/div/div[2]/div[2]/div[1]/div/div[2]/dl/dd[2]\").text\n",
    "        except NoSuchElementException:\n",
    "            serventia = \"sem_essa_informacao\"\n",
    "    \n",
    "        try:\n",
    "            valor = browser.find_element_by_xpath(\"/html/body/div[3]/div/section/div/div[2]/div/div[3]/div[2]/div/div[2]/div[2]/div[1]/div/div[2]/dl/dd[3]\").text\n",
    "        except NoSuchElementException:\n",
    "            valor = \"sem_essa_informacao\"\n",
    "    \n",
    "        try:\n",
    "            fase = browser.find_element_by_xpath(\"/html/body/div[3]/div/section/div/div[2]/div/div[3]/div[2]/div/div[2]/div[2]/div[1]/div/div[2]/dl/dd[5]\").text\n",
    "        except NoSuchElementException:\n",
    "            fase = \"sem_essa_informacao\"\n",
    "    \n",
    "        try:\n",
    "            segredo = browser.find_element_by_xpath(\"/html/body/div[3]/div/section/div/div[2]/div/div[3]/div[2]/div/div[2]/div[2]/div[1]/div/div[2]/dl/dd[6]/i\").text\n",
    "        except NoSuchElementException:\n",
    "            segredo = \"sem_essa_informacao\"\n",
    "    \n",
    "        try:\n",
    "            situacao = browser.find_element_by_xpath(\"/html/body/div[3]/div/section/div/div[2]/div/div[3]/div[2]/div/div[2]/div[2]/div[1]/div/div[2]/dl/dd[7]\").text\n",
    "        except NoSuchElementException:\n",
    "            situacao = \"sem_essa_informacao\"\n",
    "    \n",
    "        try:\n",
    "            data_distribuicao = browser.find_element_by_xpath(\"/html/body/div[3]/div/section/div/div[2]/div/div[3]/div[2]/div/div[2]/div[2]/div[1]/div/div[2]/dl/dd[9]\").text\n",
    "        except NoSuchElementException:\n",
    "            data_distribuicao = \"sem_essa_informacao\"\n",
    "    \n",
    "        try:\n",
    "            classe = browser.find_element_by_xpath(\"/html/body/div[3]/div/section/div/div[2]/div/div[3]/div[2]/div/div[2]/div[2]/div[1]/div/div[2]/dl/dd[11]\").text\n",
    "        except NoSuchElementException:\n",
    "            classe = \"sem_essa_informacao\"\n",
    "        \n",
    "        try:    \n",
    "            assunto1 = browser.find_element_by_xpath(\"//*[@id='conteudoLista']/div[1]/div/div[2]/dl/dd[12]/table/tbody/tr/td\").text\n",
    "        except NoSuchElementException:\n",
    "            assunto1 = \"sem_essa_informacao\"\n",
    "        \n",
    "        try:    \n",
    "            assunto2 = browser.find_element_by_xpath(\"//*[@id='conteudoLista']/div[1]/div/div[2]/dl/dd[13]/table/tbody/tr/td\").text\n",
    "        except NoSuchElementException:\n",
    "            assunto1 = \"sem_essa_informacao\"\n",
    "    \n",
    "        try:\n",
    "            ativos = browser.find_element_by_xpath(\"//*[@id='poloAtivoTable']\").text\n",
    "        except NoSuchElementException:\n",
    "            ativos = \"sem_essa_informacao\"\n",
    "        \n",
    "        try:\n",
    "            passivos = browser.find_element_by_xpath(\"//*[@id='poloPassivoTable']\").text\n",
    "        except NoSuchElementException:\n",
    "            passivos = \"sem_essa_informacao\"\n",
    "    \n",
    "    \n",
    "        # Adiciona resultados coletados num dicionário dentro da lista\n",
    "        processos.append({'processo': processo, \n",
    "                          'polo_ativo': polo_ativo, \n",
    "                          'polo_passivo': polo_passivo, \n",
    "                          'area': area, \n",
    "                          'serventia': serventia, \n",
    "                          'valor': valor, \n",
    "                          'fase': fase, \n",
    "                          'segredo': segredo,\n",
    "                          'situacao': situacao,\n",
    "                          'data_distribuicao': data_distribuicao,\n",
    "                          'classe': classe,\n",
    "                          'assunto1': assunto1,\n",
    "                          'assunto2': assunto2,\n",
    "                          'ativos': ativos,\n",
    "                          'passivos': passivos  \n",
    "                         })    \n",
    "    \n",
    "        # Clica no botão de voltar, com cuidados de tempo\n",
    "        WebDriverWait(browser, 60).until(EC.element_to_be_clickable((By.XPATH, \"/html/body/div[3]/div/div/section/div/h2/div/a/i\"))).click()\n",
    "        time.sleep(6)\n",
    "    \n",
    "    # Se o processo tem problemas    \n",
    "    elif encontra == \"x\\nNenhum Processo foi localizado para os parâmetros informados.\":\n",
    "        print(\"Processo não encontrado: \", processo)\n",
    "    \n",
    "    elif p_segredo == \"Informações do Processo em Segredo de Justiça\":\n",
    "        print(\"Processo com segredo de Justiça: \", processo)\n",
    "        browser.get(link)\n",
    "        time.sleep(6)\n",
    "\n",
    "    elif duplo == 'Exibindo ':\n",
    "        print(\"Processo possivelmente duplicado: \", processo)\n",
    "        browser.get(link)\n",
    "        time.sleep(6)"
   ]
  },
  {
   "cell_type": "code",
   "execution_count": 253,
   "metadata": {},
   "outputs": [],
   "source": []
  },
  {
   "cell_type": "code",
   "execution_count": null,
   "metadata": {},
   "outputs": [],
   "source": [
    "# Transforma lista em dataframe"
   ]
  },
  {
   "cell_type": "code",
   "execution_count": 59,
   "metadata": {},
   "outputs": [],
   "source": [
    "df_resultado = pd.DataFrame(processos)"
   ]
  },
  {
   "cell_type": "code",
   "execution_count": 60,
   "metadata": {},
   "outputs": [
    {
     "name": "stdout",
     "output_type": "stream",
     "text": [
      "<class 'pandas.core.frame.DataFrame'>\n",
      "RangeIndex: 105 entries, 0 to 104\n",
      "Data columns (total 15 columns):\n",
      "processo             105 non-null object\n",
      "polo_ativo           105 non-null object\n",
      "polo_passivo         105 non-null object\n",
      "area                 105 non-null object\n",
      "serventia            105 non-null object\n",
      "valor                105 non-null object\n",
      "fase                 105 non-null object\n",
      "segredo              105 non-null object\n",
      "situacao             105 non-null object\n",
      "data_distribuicao    105 non-null object\n",
      "classe               105 non-null object\n",
      "assunto1             105 non-null object\n",
      "assunto2             105 non-null object\n",
      "ativos               105 non-null object\n",
      "passivos             105 non-null object\n",
      "dtypes: object(15)\n",
      "memory usage: 12.4+ KB\n"
     ]
    }
   ],
   "source": [
    "df_resultado.info()"
   ]
  },
  {
   "cell_type": "code",
   "execution_count": null,
   "metadata": {},
   "outputs": [],
   "source": [
    "# Salva resultado"
   ]
  },
  {
   "cell_type": "code",
   "execution_count": 61,
   "metadata": {},
   "outputs": [],
   "source": [
    "df_resultado.to_csv('teste_17nov.csv', index=False)"
   ]
  },
  {
   "cell_type": "code",
   "execution_count": null,
   "metadata": {},
   "outputs": [],
   "source": []
  },
  {
   "cell_type": "code",
   "execution_count": null,
   "metadata": {},
   "outputs": [],
   "source": []
  }
 ],
 "metadata": {
  "kernelspec": {
   "display_name": "Python 3",
   "language": "python",
   "name": "python3"
  },
  "language_info": {
   "codemirror_mode": {
    "name": "ipython",
    "version": 3
   },
   "file_extension": ".py",
   "mimetype": "text/x-python",
   "name": "python",
   "nbconvert_exporter": "python",
   "pygments_lexer": "ipython3",
   "version": "3.6.8"
  }
 },
 "nbformat": 4,
 "nbformat_minor": 4
}
